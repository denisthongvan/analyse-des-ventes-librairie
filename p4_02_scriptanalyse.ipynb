{
 "cells": [
  {
   "cell_type": "code",
   "execution_count": 1,
   "id": "e364f8e8",
   "metadata": {},
   "outputs": [],
   "source": [
    "import pandas as pd\n",
    "import matplotlib.pyplot as plt\n",
    "import numpy as np\n",
    "import scipy.stats as st\n",
    "import seaborn as sns\n",
    "import statsmodels.formula.api as smf\n",
    "import statsmodels.api as sm"
   ]
  },
  {
   "cell_type": "code",
   "execution_count": 2,
   "id": "aad66eeb",
   "metadata": {},
   "outputs": [],
   "source": [
    "customers_df = pd.read_csv('customers.csv')\n",
    "products_df = pd.read_csv('products.csv')\n",
    "transactions_df = pd.read_csv('transactions.csv')"
   ]
  },
  {
   "cell_type": "markdown",
   "id": "e13f76ec",
   "metadata": {},
   "source": [
    "### Recherche des données manquantes"
   ]
  },
  {
   "cell_type": "code",
   "execution_count": 3,
   "id": "cc66297f",
   "metadata": {},
   "outputs": [
    {
     "data": {
      "text/plain": [
       "False"
      ]
     },
     "execution_count": 3,
     "metadata": {},
     "output_type": "execute_result"
    }
   ],
   "source": [
    "customers_df.isnull().values.any()"
   ]
  },
  {
   "cell_type": "code",
   "execution_count": 5,
   "id": "fbf1ef44",
   "metadata": {},
   "outputs": [
    {
     "data": {
      "text/plain": [
       "False"
      ]
     },
     "execution_count": 5,
     "metadata": {},
     "output_type": "execute_result"
    }
   ],
   "source": [
    "products_df.isnull().values.any()"
   ]
  },
  {
   "cell_type": "code",
   "execution_count": 7,
   "id": "89201178",
   "metadata": {},
   "outputs": [
    {
     "data": {
      "text/plain": [
       "False"
      ]
     },
     "execution_count": 7,
     "metadata": {},
     "output_type": "execute_result"
    }
   ],
   "source": [
    "transactions_df.isnull().values.any()"
   ]
  },
  {
   "cell_type": "markdown",
   "id": "a6e8e959",
   "metadata": {},
   "source": [
    "#### Nous ne remarquons aucune donnée manquante."
   ]
  },
  {
   "cell_type": "markdown",
   "id": "bf19d91e",
   "metadata": {},
   "source": [
    "### Nettoyage de données"
   ]
  },
  {
   "cell_type": "code",
   "execution_count": 9,
   "id": "727af814",
   "metadata": {},
   "outputs": [],
   "source": [
    "# Jointure externe totale car nous souhaitons garder toutes les informations liées aux 2 dataframes.\n",
    "tran_prod_df = pd.merge(transactions_df, products_df, on='id_prod', how='outer')"
   ]
  },
  {
   "cell_type": "code",
   "execution_count": 10,
   "id": "ea5a6acd",
   "metadata": {},
   "outputs": [],
   "source": [
    "# Jointure externe gauche car nous souhaitons garder toutes les lignes de tran_prod_df\n",
    "tot_df = pd.merge(tran_prod_df, customers_df, on='client_id', how='left')"
   ]
  },
  {
   "cell_type": "code",
   "execution_count": 11,
   "id": "613ae210",
   "metadata": {},
   "outputs": [
    {
     "data": {
      "text/html": [
       "<div>\n",
       "<style scoped>\n",
       "    .dataframe tbody tr th:only-of-type {\n",
       "        vertical-align: middle;\n",
       "    }\n",
       "\n",
       "    .dataframe tbody tr th {\n",
       "        vertical-align: top;\n",
       "    }\n",
       "\n",
       "    .dataframe thead th {\n",
       "        text-align: right;\n",
       "    }\n",
       "</style>\n",
       "<table border=\"1\" class=\"dataframe\">\n",
       "  <thead>\n",
       "    <tr style=\"text-align: right;\">\n",
       "      <th></th>\n",
       "      <th>id_prod</th>\n",
       "      <th>date</th>\n",
       "      <th>session_id</th>\n",
       "      <th>client_id</th>\n",
       "      <th>price</th>\n",
       "      <th>categ</th>\n",
       "      <th>sex</th>\n",
       "      <th>birth</th>\n",
       "    </tr>\n",
       "  </thead>\n",
       "  <tbody>\n",
       "    <tr>\n",
       "      <th>307991</th>\n",
       "      <td>0_2245</td>\n",
       "      <td>2021-06-17 03:03:12.668129</td>\n",
       "      <td>s_49705</td>\n",
       "      <td>c_1533</td>\n",
       "      <td>NaN</td>\n",
       "      <td>NaN</td>\n",
       "      <td>m</td>\n",
       "      <td>1972.0</td>\n",
       "    </tr>\n",
       "    <tr>\n",
       "      <th>307992</th>\n",
       "      <td>0_2245</td>\n",
       "      <td>2021-06-16 05:53:01.627491</td>\n",
       "      <td>s_49323</td>\n",
       "      <td>c_7954</td>\n",
       "      <td>NaN</td>\n",
       "      <td>NaN</td>\n",
       "      <td>m</td>\n",
       "      <td>1973.0</td>\n",
       "    </tr>\n",
       "    <tr>\n",
       "      <th>307993</th>\n",
       "      <td>0_2245</td>\n",
       "      <td>2021-11-24 17:35:59.911427</td>\n",
       "      <td>s_124474</td>\n",
       "      <td>c_5120</td>\n",
       "      <td>NaN</td>\n",
       "      <td>NaN</td>\n",
       "      <td>f</td>\n",
       "      <td>1975.0</td>\n",
       "    </tr>\n",
       "    <tr>\n",
       "      <th>307994</th>\n",
       "      <td>0_2245</td>\n",
       "      <td>2022-02-28 18:08:49.875709</td>\n",
       "      <td>s_172304</td>\n",
       "      <td>c_4964</td>\n",
       "      <td>NaN</td>\n",
       "      <td>NaN</td>\n",
       "      <td>f</td>\n",
       "      <td>1982.0</td>\n",
       "    </tr>\n",
       "    <tr>\n",
       "      <th>307995</th>\n",
       "      <td>0_2245</td>\n",
       "      <td>2021-03-01 00:09:29.301897</td>\n",
       "      <td>s_3</td>\n",
       "      <td>c_580</td>\n",
       "      <td>NaN</td>\n",
       "      <td>NaN</td>\n",
       "      <td>m</td>\n",
       "      <td>1988.0</td>\n",
       "    </tr>\n",
       "    <tr>\n",
       "      <th>...</th>\n",
       "      <td>...</td>\n",
       "      <td>...</td>\n",
       "      <td>...</td>\n",
       "      <td>...</td>\n",
       "      <td>...</td>\n",
       "      <td>...</td>\n",
       "      <td>...</td>\n",
       "      <td>...</td>\n",
       "    </tr>\n",
       "    <tr>\n",
       "      <th>308089</th>\n",
       "      <td>0_2245</td>\n",
       "      <td>2021-04-06 19:59:19.462288</td>\n",
       "      <td>s_16936</td>\n",
       "      <td>c_4167</td>\n",
       "      <td>NaN</td>\n",
       "      <td>NaN</td>\n",
       "      <td>f</td>\n",
       "      <td>1979.0</td>\n",
       "    </tr>\n",
       "    <tr>\n",
       "      <th>308090</th>\n",
       "      <td>0_2245</td>\n",
       "      <td>2021-03-30 23:29:02.347672</td>\n",
       "      <td>s_13738</td>\n",
       "      <td>c_7790</td>\n",
       "      <td>NaN</td>\n",
       "      <td>NaN</td>\n",
       "      <td>f</td>\n",
       "      <td>1983.0</td>\n",
       "    </tr>\n",
       "    <tr>\n",
       "      <th>308091</th>\n",
       "      <td>0_2245</td>\n",
       "      <td>2021-12-03 14:14:40.444177</td>\n",
       "      <td>s_128815</td>\n",
       "      <td>c_6189</td>\n",
       "      <td>NaN</td>\n",
       "      <td>NaN</td>\n",
       "      <td>f</td>\n",
       "      <td>1984.0</td>\n",
       "    </tr>\n",
       "    <tr>\n",
       "      <th>308092</th>\n",
       "      <td>0_2245</td>\n",
       "      <td>2021-04-27 18:58:47.703374</td>\n",
       "      <td>s_26624</td>\n",
       "      <td>c_1595</td>\n",
       "      <td>NaN</td>\n",
       "      <td>NaN</td>\n",
       "      <td>f</td>\n",
       "      <td>1973.0</td>\n",
       "    </tr>\n",
       "    <tr>\n",
       "      <th>308093</th>\n",
       "      <td>0_2245</td>\n",
       "      <td>2021-05-01 03:35:03.146305</td>\n",
       "      <td>s_28235</td>\n",
       "      <td>c_5714</td>\n",
       "      <td>NaN</td>\n",
       "      <td>NaN</td>\n",
       "      <td>f</td>\n",
       "      <td>1972.0</td>\n",
       "    </tr>\n",
       "  </tbody>\n",
       "</table>\n",
       "<p>103 rows × 8 columns</p>\n",
       "</div>"
      ],
      "text/plain": [
       "       id_prod                        date session_id client_id  price  categ  \\\n",
       "307991  0_2245  2021-06-17 03:03:12.668129    s_49705    c_1533    NaN    NaN   \n",
       "307992  0_2245  2021-06-16 05:53:01.627491    s_49323    c_7954    NaN    NaN   \n",
       "307993  0_2245  2021-11-24 17:35:59.911427   s_124474    c_5120    NaN    NaN   \n",
       "307994  0_2245  2022-02-28 18:08:49.875709   s_172304    c_4964    NaN    NaN   \n",
       "307995  0_2245  2021-03-01 00:09:29.301897        s_3     c_580    NaN    NaN   \n",
       "...        ...                         ...        ...       ...    ...    ...   \n",
       "308089  0_2245  2021-04-06 19:59:19.462288    s_16936    c_4167    NaN    NaN   \n",
       "308090  0_2245  2021-03-30 23:29:02.347672    s_13738    c_7790    NaN    NaN   \n",
       "308091  0_2245  2021-12-03 14:14:40.444177   s_128815    c_6189    NaN    NaN   \n",
       "308092  0_2245  2021-04-27 18:58:47.703374    s_26624    c_1595    NaN    NaN   \n",
       "308093  0_2245  2021-05-01 03:35:03.146305    s_28235    c_5714    NaN    NaN   \n",
       "\n",
       "       sex   birth  \n",
       "307991   m  1972.0  \n",
       "307992   m  1973.0  \n",
       "307993   f  1975.0  \n",
       "307994   f  1982.0  \n",
       "307995   m  1988.0  \n",
       "...     ..     ...  \n",
       "308089   f  1979.0  \n",
       "308090   f  1983.0  \n",
       "308091   f  1984.0  \n",
       "308092   f  1973.0  \n",
       "308093   f  1972.0  \n",
       "\n",
       "[103 rows x 8 columns]"
      ]
     },
     "execution_count": 11,
     "metadata": {},
     "output_type": "execute_result"
    }
   ],
   "source": [
    "# Récupération des Nan selon categ\n",
    "tp_miss_cat = tot_df[tot_df.categ.isnull() == True]\n",
    "tp_miss_cat"
   ]
  },
  {
   "cell_type": "markdown",
   "id": "6f319b34",
   "metadata": {},
   "source": [
    "#### Un produit unique dont le prix n'a pas été répertorié dans les transactions. Il doit être de catégorie 0 car ce produit commence par '0'. Il s'agit ici de transactions concernant ce produit, nous pourrons remplacer les prix NaN par le prix moyen."
   ]
  },
  {
   "cell_type": "code",
   "execution_count": 12,
   "id": "9a2cd8a4",
   "metadata": {},
   "outputs": [],
   "source": [
    "# Remplacement des categ NaN par categ 0 pour tran_prod_df\n",
    "tot_df['categ'] = tot_df.categ.fillna(0)\n",
    "# Remplacement des prix NaN par le prix moyen\n",
    "tot_df['price'] = tot_df.price.fillna(tot_df.price.mean())"
   ]
  },
  {
   "cell_type": "code",
   "execution_count": 13,
   "id": "a6a7a36a",
   "metadata": {},
   "outputs": [],
   "source": [
    "# Récupération des NaN selon session_id\n",
    "tp_miss_ses = tot_df[tot_df.session_id.isnull() == True]"
   ]
  },
  {
   "cell_type": "code",
   "execution_count": 14,
   "id": "fe342025",
   "metadata": {},
   "outputs": [
    {
     "data": {
      "text/html": [
       "<div>\n",
       "<style scoped>\n",
       "    .dataframe tbody tr th:only-of-type {\n",
       "        vertical-align: middle;\n",
       "    }\n",
       "\n",
       "    .dataframe tbody tr th {\n",
       "        vertical-align: top;\n",
       "    }\n",
       "\n",
       "    .dataframe thead th {\n",
       "        text-align: right;\n",
       "    }\n",
       "</style>\n",
       "<table border=\"1\" class=\"dataframe\">\n",
       "  <thead>\n",
       "    <tr style=\"text-align: right;\">\n",
       "      <th></th>\n",
       "      <th>id_prod</th>\n",
       "      <th>date</th>\n",
       "      <th>session_id</th>\n",
       "      <th>client_id</th>\n",
       "      <th>price</th>\n",
       "      <th>categ</th>\n",
       "      <th>sex</th>\n",
       "      <th>birth</th>\n",
       "    </tr>\n",
       "  </thead>\n",
       "  <tbody>\n",
       "    <tr>\n",
       "      <th>337016</th>\n",
       "      <td>0_1016</td>\n",
       "      <td>NaN</td>\n",
       "      <td>NaN</td>\n",
       "      <td>NaN</td>\n",
       "      <td>35.06</td>\n",
       "      <td>0.0</td>\n",
       "      <td>NaN</td>\n",
       "      <td>NaN</td>\n",
       "    </tr>\n",
       "    <tr>\n",
       "      <th>337017</th>\n",
       "      <td>0_1780</td>\n",
       "      <td>NaN</td>\n",
       "      <td>NaN</td>\n",
       "      <td>NaN</td>\n",
       "      <td>1.67</td>\n",
       "      <td>0.0</td>\n",
       "      <td>NaN</td>\n",
       "      <td>NaN</td>\n",
       "    </tr>\n",
       "    <tr>\n",
       "      <th>337018</th>\n",
       "      <td>0_1062</td>\n",
       "      <td>NaN</td>\n",
       "      <td>NaN</td>\n",
       "      <td>NaN</td>\n",
       "      <td>20.08</td>\n",
       "      <td>0.0</td>\n",
       "      <td>NaN</td>\n",
       "      <td>NaN</td>\n",
       "    </tr>\n",
       "    <tr>\n",
       "      <th>337019</th>\n",
       "      <td>0_1119</td>\n",
       "      <td>NaN</td>\n",
       "      <td>NaN</td>\n",
       "      <td>NaN</td>\n",
       "      <td>2.99</td>\n",
       "      <td>0.0</td>\n",
       "      <td>NaN</td>\n",
       "      <td>NaN</td>\n",
       "    </tr>\n",
       "    <tr>\n",
       "      <th>337020</th>\n",
       "      <td>0_1014</td>\n",
       "      <td>NaN</td>\n",
       "      <td>NaN</td>\n",
       "      <td>NaN</td>\n",
       "      <td>1.15</td>\n",
       "      <td>0.0</td>\n",
       "      <td>NaN</td>\n",
       "      <td>NaN</td>\n",
       "    </tr>\n",
       "    <tr>\n",
       "      <th>337021</th>\n",
       "      <td>1_0</td>\n",
       "      <td>NaN</td>\n",
       "      <td>NaN</td>\n",
       "      <td>NaN</td>\n",
       "      <td>31.82</td>\n",
       "      <td>1.0</td>\n",
       "      <td>NaN</td>\n",
       "      <td>NaN</td>\n",
       "    </tr>\n",
       "    <tr>\n",
       "      <th>337022</th>\n",
       "      <td>0_1318</td>\n",
       "      <td>NaN</td>\n",
       "      <td>NaN</td>\n",
       "      <td>NaN</td>\n",
       "      <td>20.92</td>\n",
       "      <td>0.0</td>\n",
       "      <td>NaN</td>\n",
       "      <td>NaN</td>\n",
       "    </tr>\n",
       "    <tr>\n",
       "      <th>337023</th>\n",
       "      <td>0_1800</td>\n",
       "      <td>NaN</td>\n",
       "      <td>NaN</td>\n",
       "      <td>NaN</td>\n",
       "      <td>22.05</td>\n",
       "      <td>0.0</td>\n",
       "      <td>NaN</td>\n",
       "      <td>NaN</td>\n",
       "    </tr>\n",
       "    <tr>\n",
       "      <th>337024</th>\n",
       "      <td>0_1645</td>\n",
       "      <td>NaN</td>\n",
       "      <td>NaN</td>\n",
       "      <td>NaN</td>\n",
       "      <td>2.99</td>\n",
       "      <td>0.0</td>\n",
       "      <td>NaN</td>\n",
       "      <td>NaN</td>\n",
       "    </tr>\n",
       "    <tr>\n",
       "      <th>337025</th>\n",
       "      <td>0_322</td>\n",
       "      <td>NaN</td>\n",
       "      <td>NaN</td>\n",
       "      <td>NaN</td>\n",
       "      <td>2.99</td>\n",
       "      <td>0.0</td>\n",
       "      <td>NaN</td>\n",
       "      <td>NaN</td>\n",
       "    </tr>\n",
       "    <tr>\n",
       "      <th>337026</th>\n",
       "      <td>0_1620</td>\n",
       "      <td>NaN</td>\n",
       "      <td>NaN</td>\n",
       "      <td>NaN</td>\n",
       "      <td>0.80</td>\n",
       "      <td>0.0</td>\n",
       "      <td>NaN</td>\n",
       "      <td>NaN</td>\n",
       "    </tr>\n",
       "    <tr>\n",
       "      <th>337027</th>\n",
       "      <td>0_1025</td>\n",
       "      <td>NaN</td>\n",
       "      <td>NaN</td>\n",
       "      <td>NaN</td>\n",
       "      <td>24.99</td>\n",
       "      <td>0.0</td>\n",
       "      <td>NaN</td>\n",
       "      <td>NaN</td>\n",
       "    </tr>\n",
       "    <tr>\n",
       "      <th>337028</th>\n",
       "      <td>2_87</td>\n",
       "      <td>NaN</td>\n",
       "      <td>NaN</td>\n",
       "      <td>NaN</td>\n",
       "      <td>220.99</td>\n",
       "      <td>2.0</td>\n",
       "      <td>NaN</td>\n",
       "      <td>NaN</td>\n",
       "    </tr>\n",
       "    <tr>\n",
       "      <th>337029</th>\n",
       "      <td>1_394</td>\n",
       "      <td>NaN</td>\n",
       "      <td>NaN</td>\n",
       "      <td>NaN</td>\n",
       "      <td>39.73</td>\n",
       "      <td>1.0</td>\n",
       "      <td>NaN</td>\n",
       "      <td>NaN</td>\n",
       "    </tr>\n",
       "    <tr>\n",
       "      <th>337030</th>\n",
       "      <td>2_72</td>\n",
       "      <td>NaN</td>\n",
       "      <td>NaN</td>\n",
       "      <td>NaN</td>\n",
       "      <td>141.32</td>\n",
       "      <td>2.0</td>\n",
       "      <td>NaN</td>\n",
       "      <td>NaN</td>\n",
       "    </tr>\n",
       "    <tr>\n",
       "      <th>337031</th>\n",
       "      <td>0_310</td>\n",
       "      <td>NaN</td>\n",
       "      <td>NaN</td>\n",
       "      <td>NaN</td>\n",
       "      <td>1.94</td>\n",
       "      <td>0.0</td>\n",
       "      <td>NaN</td>\n",
       "      <td>NaN</td>\n",
       "    </tr>\n",
       "    <tr>\n",
       "      <th>337032</th>\n",
       "      <td>0_1624</td>\n",
       "      <td>NaN</td>\n",
       "      <td>NaN</td>\n",
       "      <td>NaN</td>\n",
       "      <td>24.50</td>\n",
       "      <td>0.0</td>\n",
       "      <td>NaN</td>\n",
       "      <td>NaN</td>\n",
       "    </tr>\n",
       "    <tr>\n",
       "      <th>337033</th>\n",
       "      <td>0_525</td>\n",
       "      <td>NaN</td>\n",
       "      <td>NaN</td>\n",
       "      <td>NaN</td>\n",
       "      <td>2.99</td>\n",
       "      <td>0.0</td>\n",
       "      <td>NaN</td>\n",
       "      <td>NaN</td>\n",
       "    </tr>\n",
       "    <tr>\n",
       "      <th>337034</th>\n",
       "      <td>2_86</td>\n",
       "      <td>NaN</td>\n",
       "      <td>NaN</td>\n",
       "      <td>NaN</td>\n",
       "      <td>132.36</td>\n",
       "      <td>2.0</td>\n",
       "      <td>NaN</td>\n",
       "      <td>NaN</td>\n",
       "    </tr>\n",
       "    <tr>\n",
       "      <th>337035</th>\n",
       "      <td>0_299</td>\n",
       "      <td>NaN</td>\n",
       "      <td>NaN</td>\n",
       "      <td>NaN</td>\n",
       "      <td>22.99</td>\n",
       "      <td>0.0</td>\n",
       "      <td>NaN</td>\n",
       "      <td>NaN</td>\n",
       "    </tr>\n",
       "    <tr>\n",
       "      <th>337036</th>\n",
       "      <td>0_510</td>\n",
       "      <td>NaN</td>\n",
       "      <td>NaN</td>\n",
       "      <td>NaN</td>\n",
       "      <td>23.66</td>\n",
       "      <td>0.0</td>\n",
       "      <td>NaN</td>\n",
       "      <td>NaN</td>\n",
       "    </tr>\n",
       "    <tr>\n",
       "      <th>337037</th>\n",
       "      <td>0_2308</td>\n",
       "      <td>NaN</td>\n",
       "      <td>NaN</td>\n",
       "      <td>NaN</td>\n",
       "      <td>20.28</td>\n",
       "      <td>0.0</td>\n",
       "      <td>NaN</td>\n",
       "      <td>NaN</td>\n",
       "    </tr>\n",
       "  </tbody>\n",
       "</table>\n",
       "</div>"
      ],
      "text/plain": [
       "       id_prod date session_id client_id   price  categ  sex  birth\n",
       "337016  0_1016  NaN        NaN       NaN   35.06    0.0  NaN    NaN\n",
       "337017  0_1780  NaN        NaN       NaN    1.67    0.0  NaN    NaN\n",
       "337018  0_1062  NaN        NaN       NaN   20.08    0.0  NaN    NaN\n",
       "337019  0_1119  NaN        NaN       NaN    2.99    0.0  NaN    NaN\n",
       "337020  0_1014  NaN        NaN       NaN    1.15    0.0  NaN    NaN\n",
       "337021     1_0  NaN        NaN       NaN   31.82    1.0  NaN    NaN\n",
       "337022  0_1318  NaN        NaN       NaN   20.92    0.0  NaN    NaN\n",
       "337023  0_1800  NaN        NaN       NaN   22.05    0.0  NaN    NaN\n",
       "337024  0_1645  NaN        NaN       NaN    2.99    0.0  NaN    NaN\n",
       "337025   0_322  NaN        NaN       NaN    2.99    0.0  NaN    NaN\n",
       "337026  0_1620  NaN        NaN       NaN    0.80    0.0  NaN    NaN\n",
       "337027  0_1025  NaN        NaN       NaN   24.99    0.0  NaN    NaN\n",
       "337028    2_87  NaN        NaN       NaN  220.99    2.0  NaN    NaN\n",
       "337029   1_394  NaN        NaN       NaN   39.73    1.0  NaN    NaN\n",
       "337030    2_72  NaN        NaN       NaN  141.32    2.0  NaN    NaN\n",
       "337031   0_310  NaN        NaN       NaN    1.94    0.0  NaN    NaN\n",
       "337032  0_1624  NaN        NaN       NaN   24.50    0.0  NaN    NaN\n",
       "337033   0_525  NaN        NaN       NaN    2.99    0.0  NaN    NaN\n",
       "337034    2_86  NaN        NaN       NaN  132.36    2.0  NaN    NaN\n",
       "337035   0_299  NaN        NaN       NaN   22.99    0.0  NaN    NaN\n",
       "337036   0_510  NaN        NaN       NaN   23.66    0.0  NaN    NaN\n",
       "337037  0_2308  NaN        NaN       NaN   20.28    0.0  NaN    NaN"
      ]
     },
     "execution_count": 14,
     "metadata": {},
     "output_type": "execute_result"
    }
   ],
   "source": [
    "tp_miss_ses"
   ]
  },
  {
   "cell_type": "markdown",
   "id": "e45b8a2a",
   "metadata": {},
   "source": [
    "#### Il s'agit de 22 produits uniques qui n'ont pas été achetés car aucune donnée concernant la date, la session ou encore le client. N'ayant aucun moyen de connaître ces valeurs, il est préférable de supprimer ces 22 lignes de l'analyse."
   ]
  },
  {
   "cell_type": "code",
   "execution_count": 15,
   "id": "1d1e3f2a",
   "metadata": {},
   "outputs": [],
   "source": [
    "# Suppression des 22 lignes sus-mentionnées.\n",
    "tot_df = tot_df.dropna()"
   ]
  },
  {
   "cell_type": "code",
   "execution_count": 87,
   "id": "f2089796",
   "metadata": {},
   "outputs": [
    {
     "data": {
      "text/html": [
       "<div>\n",
       "<style scoped>\n",
       "    .dataframe tbody tr th:only-of-type {\n",
       "        vertical-align: middle;\n",
       "    }\n",
       "\n",
       "    .dataframe tbody tr th {\n",
       "        vertical-align: top;\n",
       "    }\n",
       "\n",
       "    .dataframe thead th {\n",
       "        text-align: right;\n",
       "    }\n",
       "</style>\n",
       "<table border=\"1\" class=\"dataframe\">\n",
       "  <thead>\n",
       "    <tr style=\"text-align: right;\">\n",
       "      <th></th>\n",
       "      <th>id_prod</th>\n",
       "      <th>date</th>\n",
       "      <th>session_id</th>\n",
       "      <th>client_id</th>\n",
       "      <th>price</th>\n",
       "      <th>categ</th>\n",
       "      <th>sex</th>\n",
       "      <th>birth</th>\n",
       "    </tr>\n",
       "  </thead>\n",
       "  <tbody>\n",
       "    <tr>\n",
       "      <th>226628</th>\n",
       "      <td>T_0</td>\n",
       "      <td>test_2021-03-01 02:30:02.237420</td>\n",
       "      <td>s_0</td>\n",
       "      <td>ct_1</td>\n",
       "      <td>-1.0</td>\n",
       "      <td>0.0</td>\n",
       "      <td>m</td>\n",
       "      <td>2001.0</td>\n",
       "    </tr>\n",
       "    <tr>\n",
       "      <th>226629</th>\n",
       "      <td>T_0</td>\n",
       "      <td>test_2021-03-01 02:30:02.237446</td>\n",
       "      <td>s_0</td>\n",
       "      <td>ct_1</td>\n",
       "      <td>-1.0</td>\n",
       "      <td>0.0</td>\n",
       "      <td>m</td>\n",
       "      <td>2001.0</td>\n",
       "    </tr>\n",
       "    <tr>\n",
       "      <th>226630</th>\n",
       "      <td>T_0</td>\n",
       "      <td>test_2021-03-01 02:30:02.237414</td>\n",
       "      <td>s_0</td>\n",
       "      <td>ct_1</td>\n",
       "      <td>-1.0</td>\n",
       "      <td>0.0</td>\n",
       "      <td>m</td>\n",
       "      <td>2001.0</td>\n",
       "    </tr>\n",
       "    <tr>\n",
       "      <th>226631</th>\n",
       "      <td>T_0</td>\n",
       "      <td>test_2021-03-01 02:30:02.237441</td>\n",
       "      <td>s_0</td>\n",
       "      <td>ct_0</td>\n",
       "      <td>-1.0</td>\n",
       "      <td>0.0</td>\n",
       "      <td>f</td>\n",
       "      <td>2001.0</td>\n",
       "    </tr>\n",
       "    <tr>\n",
       "      <th>226632</th>\n",
       "      <td>T_0</td>\n",
       "      <td>test_2021-03-01 02:30:02.237434</td>\n",
       "      <td>s_0</td>\n",
       "      <td>ct_1</td>\n",
       "      <td>-1.0</td>\n",
       "      <td>0.0</td>\n",
       "      <td>m</td>\n",
       "      <td>2001.0</td>\n",
       "    </tr>\n",
       "    <tr>\n",
       "      <th>...</th>\n",
       "      <td>...</td>\n",
       "      <td>...</td>\n",
       "      <td>...</td>\n",
       "      <td>...</td>\n",
       "      <td>...</td>\n",
       "      <td>...</td>\n",
       "      <td>...</td>\n",
       "      <td>...</td>\n",
       "    </tr>\n",
       "    <tr>\n",
       "      <th>226823</th>\n",
       "      <td>T_0</td>\n",
       "      <td>test_2021-03-01 02:30:02.237445</td>\n",
       "      <td>s_0</td>\n",
       "      <td>ct_0</td>\n",
       "      <td>-1.0</td>\n",
       "      <td>0.0</td>\n",
       "      <td>f</td>\n",
       "      <td>2001.0</td>\n",
       "    </tr>\n",
       "    <tr>\n",
       "      <th>226824</th>\n",
       "      <td>T_0</td>\n",
       "      <td>test_2021-03-01 02:30:02.237423</td>\n",
       "      <td>s_0</td>\n",
       "      <td>ct_1</td>\n",
       "      <td>-1.0</td>\n",
       "      <td>0.0</td>\n",
       "      <td>m</td>\n",
       "      <td>2001.0</td>\n",
       "    </tr>\n",
       "    <tr>\n",
       "      <th>226825</th>\n",
       "      <td>T_0</td>\n",
       "      <td>test_2021-03-01 02:30:02.237421</td>\n",
       "      <td>s_0</td>\n",
       "      <td>ct_1</td>\n",
       "      <td>-1.0</td>\n",
       "      <td>0.0</td>\n",
       "      <td>m</td>\n",
       "      <td>2001.0</td>\n",
       "    </tr>\n",
       "    <tr>\n",
       "      <th>226826</th>\n",
       "      <td>T_0</td>\n",
       "      <td>test_2021-03-01 02:30:02.237431</td>\n",
       "      <td>s_0</td>\n",
       "      <td>ct_1</td>\n",
       "      <td>-1.0</td>\n",
       "      <td>0.0</td>\n",
       "      <td>m</td>\n",
       "      <td>2001.0</td>\n",
       "    </tr>\n",
       "    <tr>\n",
       "      <th>226827</th>\n",
       "      <td>T_0</td>\n",
       "      <td>test_2021-03-01 02:30:02.237430</td>\n",
       "      <td>s_0</td>\n",
       "      <td>ct_0</td>\n",
       "      <td>-1.0</td>\n",
       "      <td>0.0</td>\n",
       "      <td>f</td>\n",
       "      <td>2001.0</td>\n",
       "    </tr>\n",
       "  </tbody>\n",
       "</table>\n",
       "<p>200 rows × 8 columns</p>\n",
       "</div>"
      ],
      "text/plain": [
       "       id_prod                             date session_id client_id  price  \\\n",
       "226628     T_0  test_2021-03-01 02:30:02.237420        s_0      ct_1   -1.0   \n",
       "226629     T_0  test_2021-03-01 02:30:02.237446        s_0      ct_1   -1.0   \n",
       "226630     T_0  test_2021-03-01 02:30:02.237414        s_0      ct_1   -1.0   \n",
       "226631     T_0  test_2021-03-01 02:30:02.237441        s_0      ct_0   -1.0   \n",
       "226632     T_0  test_2021-03-01 02:30:02.237434        s_0      ct_1   -1.0   \n",
       "...        ...                              ...        ...       ...    ...   \n",
       "226823     T_0  test_2021-03-01 02:30:02.237445        s_0      ct_0   -1.0   \n",
       "226824     T_0  test_2021-03-01 02:30:02.237423        s_0      ct_1   -1.0   \n",
       "226825     T_0  test_2021-03-01 02:30:02.237421        s_0      ct_1   -1.0   \n",
       "226826     T_0  test_2021-03-01 02:30:02.237431        s_0      ct_1   -1.0   \n",
       "226827     T_0  test_2021-03-01 02:30:02.237430        s_0      ct_0   -1.0   \n",
       "\n",
       "        categ sex   birth  \n",
       "226628    0.0   m  2001.0  \n",
       "226629    0.0   m  2001.0  \n",
       "226630    0.0   m  2001.0  \n",
       "226631    0.0   f  2001.0  \n",
       "226632    0.0   m  2001.0  \n",
       "...       ...  ..     ...  \n",
       "226823    0.0   f  2001.0  \n",
       "226824    0.0   m  2001.0  \n",
       "226825    0.0   m  2001.0  \n",
       "226826    0.0   m  2001.0  \n",
       "226827    0.0   f  2001.0  \n",
       "\n",
       "[200 rows x 8 columns]"
      ]
     },
     "execution_count": 87,
     "metadata": {},
     "output_type": "execute_result"
    }
   ],
   "source": [
    "a = tot_df[tot_df['id_prod'] == 'T_0']\n",
    "index_a = a.index\n",
    "a"
   ]
  },
  {
   "cell_type": "markdown",
   "id": "206245e3",
   "metadata": {},
   "source": [
    "#### Il ne s'agit pas d'achat par des clients, mais de transactions test, certainement pour vérifier que les transactions en lignes fonctionnent bien. Nous supprimerons donc ces lignes."
   ]
  },
  {
   "cell_type": "code",
   "execution_count": 17,
   "id": "6856cd22",
   "metadata": {
    "scrolled": true
   },
   "outputs": [],
   "source": [
    "data = tot_df.drop(index_a, 0)"
   ]
  },
  {
   "cell_type": "code",
   "execution_count": 18,
   "id": "be98c63c",
   "metadata": {
    "scrolled": true
   },
   "outputs": [
    {
     "name": "stdout",
     "output_type": "stream",
     "text": [
      "0\n"
     ]
    }
   ],
   "source": [
    "print(data.duplicated().sum())"
   ]
  },
  {
   "cell_type": "markdown",
   "id": "3f59a19a",
   "metadata": {},
   "source": [
    "#### Pas de doublons pour notre dataframe final."
   ]
  },
  {
   "cell_type": "markdown",
   "id": "c80d7ea4",
   "metadata": {},
   "source": [
    "### Evolution des ventes au cours du temps."
   ]
  },
  {
   "cell_type": "code",
   "execution_count": 20,
   "id": "8fffd3e9",
   "metadata": {},
   "outputs": [],
   "source": [
    "data['date'] = pd.to_datetime(data.date)"
   ]
  },
  {
   "cell_type": "code",
   "execution_count": 21,
   "id": "d21490c9",
   "metadata": {
    "scrolled": true
   },
   "outputs": [],
   "source": [
    "# Somme des transactions par mois\n",
    "tran_month = data.groupby(pd.Grouper(key='date', freq='M')).price.sum().reset_index()"
   ]
  },
  {
   "cell_type": "code",
   "execution_count": 22,
   "id": "01e56858",
   "metadata": {},
   "outputs": [],
   "source": [
    "tran_month_df = pd.DataFrame(tran_month)"
   ]
  },
  {
   "cell_type": "code",
   "execution_count": 23,
   "id": "9ece3e8a",
   "metadata": {},
   "outputs": [],
   "source": [
    "tran_month_df['price_k'] = tran_month_df['price'] / 1000"
   ]
  },
  {
   "cell_type": "code",
   "execution_count": 24,
   "id": "73937232",
   "metadata": {
    "scrolled": true
   },
   "outputs": [
    {
     "data": {
      "text/html": [
       "<div>\n",
       "<style scoped>\n",
       "    .dataframe tbody tr th:only-of-type {\n",
       "        vertical-align: middle;\n",
       "    }\n",
       "\n",
       "    .dataframe tbody tr th {\n",
       "        vertical-align: top;\n",
       "    }\n",
       "\n",
       "    .dataframe thead th {\n",
       "        text-align: right;\n",
       "    }\n",
       "</style>\n",
       "<table border=\"1\" class=\"dataframe\">\n",
       "  <thead>\n",
       "    <tr style=\"text-align: right;\">\n",
       "      <th></th>\n",
       "      <th>date</th>\n",
       "      <th>price</th>\n",
       "      <th>price_k</th>\n",
       "    </tr>\n",
       "  </thead>\n",
       "  <tbody>\n",
       "    <tr>\n",
       "      <th>0</th>\n",
       "      <td>2021-03-31</td>\n",
       "      <td>479466.880592</td>\n",
       "      <td>479.466881</td>\n",
       "    </tr>\n",
       "    <tr>\n",
       "      <th>1</th>\n",
       "      <td>2021-04-30</td>\n",
       "      <td>473221.598699</td>\n",
       "      <td>473.221599</td>\n",
       "    </tr>\n",
       "    <tr>\n",
       "      <th>2</th>\n",
       "      <td>2021-05-31</td>\n",
       "      <td>489505.594971</td>\n",
       "      <td>489.505595</td>\n",
       "    </tr>\n",
       "    <tr>\n",
       "      <th>3</th>\n",
       "      <td>2021-06-30</td>\n",
       "      <td>481378.379350</td>\n",
       "      <td>481.378379</td>\n",
       "    </tr>\n",
       "    <tr>\n",
       "      <th>4</th>\n",
       "      <td>2021-07-31</td>\n",
       "      <td>480967.482485</td>\n",
       "      <td>480.967482</td>\n",
       "    </tr>\n",
       "    <tr>\n",
       "      <th>5</th>\n",
       "      <td>2021-08-31</td>\n",
       "      <td>479460.040592</td>\n",
       "      <td>479.460041</td>\n",
       "    </tr>\n",
       "    <tr>\n",
       "      <th>6</th>\n",
       "      <td>2021-09-30</td>\n",
       "      <td>502977.747456</td>\n",
       "      <td>502.977747</td>\n",
       "    </tr>\n",
       "    <tr>\n",
       "      <th>7</th>\n",
       "      <td>2021-10-31</td>\n",
       "      <td>319280.399350</td>\n",
       "      <td>319.280399</td>\n",
       "    </tr>\n",
       "    <tr>\n",
       "      <th>8</th>\n",
       "      <td>2021-11-30</td>\n",
       "      <td>513062.226214</td>\n",
       "      <td>513.062226</td>\n",
       "    </tr>\n",
       "    <tr>\n",
       "      <th>9</th>\n",
       "      <td>2021-12-31</td>\n",
       "      <td>523058.119350</td>\n",
       "      <td>523.058119</td>\n",
       "    </tr>\n",
       "    <tr>\n",
       "      <th>10</th>\n",
       "      <td>2022-01-31</td>\n",
       "      <td>523041.338107</td>\n",
       "      <td>523.041338</td>\n",
       "    </tr>\n",
       "    <tr>\n",
       "      <th>11</th>\n",
       "      <td>2022-02-28</td>\n",
       "      <td>532930.141835</td>\n",
       "      <td>532.930142</td>\n",
       "    </tr>\n",
       "  </tbody>\n",
       "</table>\n",
       "</div>"
      ],
      "text/plain": [
       "         date          price     price_k\n",
       "0  2021-03-31  479466.880592  479.466881\n",
       "1  2021-04-30  473221.598699  473.221599\n",
       "2  2021-05-31  489505.594971  489.505595\n",
       "3  2021-06-30  481378.379350  481.378379\n",
       "4  2021-07-31  480967.482485  480.967482\n",
       "5  2021-08-31  479460.040592  479.460041\n",
       "6  2021-09-30  502977.747456  502.977747\n",
       "7  2021-10-31  319280.399350  319.280399\n",
       "8  2021-11-30  513062.226214  513.062226\n",
       "9  2021-12-31  523058.119350  523.058119\n",
       "10 2022-01-31  523041.338107  523.041338\n",
       "11 2022-02-28  532930.141835  532.930142"
      ]
     },
     "execution_count": 24,
     "metadata": {},
     "output_type": "execute_result"
    }
   ],
   "source": [
    "tran_month_df"
   ]
  },
  {
   "cell_type": "code",
   "execution_count": 25,
   "id": "3d2d6121",
   "metadata": {
    "scrolled": true
   },
   "outputs": [
    {
     "data": {
      "image/png": "[encoded data removed]",
      "text/plain": [
       "<Figure size 432x288 with 1 Axes>"
      ]
     },
     "metadata": {
      "needs_background": "light"
     },
     "output_type": "display_data"
    }
   ],
   "source": [
    "# Visualisation des ventes sur les 12 derniers mois\n",
    "tran_month_df.plot(x='date', y='price_k')\n",
    "plt.title('Evolution des ventes par mois')\n",
    "plt.xlabel('Mois')\n",
    "plt.ylabel('Ventes en keuros')\n",
    "plt.savefig(\"evolution_ventes.png\")\n",
    "plt.show()"
   ]
  },
  {
   "cell_type": "markdown",
   "id": "18d8d479",
   "metadata": {},
   "source": [
    "#### Nous remarquons une baisse significative des ventes sur le mois d'octobre."
   ]
  },
  {
   "cell_type": "code",
   "execution_count": 26,
   "id": "637032e4",
   "metadata": {},
   "outputs": [],
   "source": [
    "data.categ = data.categ.astype(str)"
   ]
  },
  {
   "cell_type": "code",
   "execution_count": 27,
   "id": "26e15ecd",
   "metadata": {},
   "outputs": [],
   "source": [
    "data['annee-mois'] = data.date.dt.strftime('%Y-%m')"
   ]
  },
  {
   "cell_type": "code",
   "execution_count": 28,
   "id": "e9056ec2",
   "metadata": {},
   "outputs": [],
   "source": [
    "data_g = data.groupby(['annee-mois', 'categ']).id_prod.count()"
   ]
  },
  {
   "cell_type": "code",
   "execution_count": 29,
   "id": "47b3d092",
   "metadata": {},
   "outputs": [],
   "source": [
    "data_g_df = pd.DataFrame(data_g).reset_index()"
   ]
  },
  {
   "cell_type": "code",
   "execution_count": 30,
   "id": "447ae70b",
   "metadata": {},
   "outputs": [],
   "source": [
    "data_g0 = data_g_df[(data_g_df['categ'] == '0.0')]\n",
    "data_g1 = data_g_df[(data_g_df['categ'] == '1.0')]\n",
    "data_g2 = data_g_df[(data_g_df['categ'] == '2.0')]"
   ]
  },
  {
   "cell_type": "code",
   "execution_count": 31,
   "id": "e87ad231",
   "metadata": {},
   "outputs": [
    {
     "data": {
      "image/png": "[encoded data removed]",
      "text/plain": [
       "<Figure size 432x288 with 1 Axes>"
      ]
     },
     "metadata": {
      "needs_background": "light"
     },
     "output_type": "display_data"
    },
    {
     "data": {
      "image/png": "[encoded data removed]",
      "text/plain": [
       "<Figure size 432x288 with 1 Axes>"
      ]
     },
     "metadata": {
      "needs_background": "light"
     },
     "output_type": "display_data"
    },
    {
     "data": {
      "image/png": "[encoded data removed]",
      "text/plain": [
       "<Figure size 432x288 with 1 Axes>"
      ]
     },
     "metadata": {
      "needs_background": "light"
     },
     "output_type": "display_data"
    }
   ],
   "source": [
    "data_g0.plot(kind='bar', x='annee-mois')\n",
    "plt.title('Ventes par mois pour la catégorie 0')\n",
    "plt.xlabel('Mois')\n",
    "plt.ylabel('Nombre de ventes')\n",
    "plt.savefig(\"ventes_0.png\")\n",
    "\n",
    "data_g1.plot(kind='bar', x='annee-mois')\n",
    "plt.title('Ventes par mois pour la catégorie 1')\n",
    "plt.xlabel('Mois')\n",
    "plt.ylabel('Nombre de ventes')\n",
    "plt.savefig(\"ventes_1.png\")\n",
    "\n",
    "data_g2.plot(kind='bar', x='annee-mois')\n",
    "plt.title('Ventes par mois pour la catégorie 2')\n",
    "plt.xlabel('Mois')\n",
    "plt.ylabel('Nombre de ventes')\n",
    "plt.savefig(\"ventes_2.png\")\n",
    "\n",
    "plt.show()"
   ]
  },
  {
   "cell_type": "markdown",
   "id": "99005016",
   "metadata": {},
   "source": [
    "#### Peu de produits de catégorie 1 comptabilisés pour octobre 2021, nous allons voir en détail pourquoi. Hypothese:?"
   ]
  },
  {
   "cell_type": "code",
   "execution_count": 32,
   "id": "f4d3da36",
   "metadata": {},
   "outputs": [
    {
     "data": {
      "text/plain": [
       "0"
      ]
     },
     "execution_count": 32,
     "metadata": {},
     "output_type": "execute_result"
    }
   ],
   "source": [
    "data[(data.date > '2021-10-02') & (data.date < '2021-10-28') & (data.categ == '1.0')].id_prod.count()"
   ]
  },
  {
   "cell_type": "markdown",
   "id": "e05bcb6d",
   "metadata": {},
   "source": [
    "#### Aucune transaction comptée pour les produits de catégorie 1 entre le 3 et le 27 octobre. Nous supprimerons donc les transactions du mois d'octobre pour la suite de l'analyse."
   ]
  },
  {
   "cell_type": "code",
   "execution_count": 33,
   "id": "1411b4ea",
   "metadata": {},
   "outputs": [
    {
     "data": {
      "text/html": [
       "<div>\n",
       "<style scoped>\n",
       "    .dataframe tbody tr th:only-of-type {\n",
       "        vertical-align: middle;\n",
       "    }\n",
       "\n",
       "    .dataframe tbody tr th {\n",
       "        vertical-align: top;\n",
       "    }\n",
       "\n",
       "    .dataframe thead th {\n",
       "        text-align: right;\n",
       "    }\n",
       "</style>\n",
       "<table border=\"1\" class=\"dataframe\">\n",
       "  <thead>\n",
       "    <tr style=\"text-align: right;\">\n",
       "      <th></th>\n",
       "      <th>id_prod</th>\n",
       "      <th>date</th>\n",
       "      <th>session_id</th>\n",
       "      <th>client_id</th>\n",
       "      <th>price</th>\n",
       "      <th>categ</th>\n",
       "      <th>sex</th>\n",
       "      <th>birth</th>\n",
       "      <th>annee-mois</th>\n",
       "    </tr>\n",
       "  </thead>\n",
       "  <tbody>\n",
       "    <tr>\n",
       "      <th>0</th>\n",
       "      <td>0_1483</td>\n",
       "      <td>2021-04-10 18:37:28.723910</td>\n",
       "      <td>s_18746</td>\n",
       "      <td>c_4450</td>\n",
       "      <td>4.99</td>\n",
       "      <td>0.0</td>\n",
       "      <td>f</td>\n",
       "      <td>1977.0</td>\n",
       "      <td>2021-04</td>\n",
       "    </tr>\n",
       "    <tr>\n",
       "      <th>2</th>\n",
       "      <td>0_1483</td>\n",
       "      <td>2021-11-14 11:11:45.276771</td>\n",
       "      <td>s_119491</td>\n",
       "      <td>c_182</td>\n",
       "      <td>4.99</td>\n",
       "      <td>0.0</td>\n",
       "      <td>f</td>\n",
       "      <td>1984.0</td>\n",
       "      <td>2021-11</td>\n",
       "    </tr>\n",
       "    <tr>\n",
       "      <th>3</th>\n",
       "      <td>0_1483</td>\n",
       "      <td>2021-07-30 19:37:16.087057</td>\n",
       "      <td>s_69222</td>\n",
       "      <td>c_1196</td>\n",
       "      <td>4.99</td>\n",
       "      <td>0.0</td>\n",
       "      <td>m</td>\n",
       "      <td>1980.0</td>\n",
       "      <td>2021-07</td>\n",
       "    </tr>\n",
       "    <tr>\n",
       "      <th>4</th>\n",
       "      <td>0_1483</td>\n",
       "      <td>2021-03-30 14:18:13.403218</td>\n",
       "      <td>s_13545</td>\n",
       "      <td>c_2890</td>\n",
       "      <td>4.99</td>\n",
       "      <td>0.0</td>\n",
       "      <td>f</td>\n",
       "      <td>1982.0</td>\n",
       "      <td>2021-03</td>\n",
       "    </tr>\n",
       "    <tr>\n",
       "      <th>5</th>\n",
       "      <td>0_1483</td>\n",
       "      <td>2021-05-09 17:45:59.753345</td>\n",
       "      <td>s_32218</td>\n",
       "      <td>c_4690</td>\n",
       "      <td>4.99</td>\n",
       "      <td>0.0</td>\n",
       "      <td>m</td>\n",
       "      <td>1979.0</td>\n",
       "      <td>2021-05</td>\n",
       "    </tr>\n",
       "  </tbody>\n",
       "</table>\n",
       "</div>"
      ],
      "text/plain": [
       "  id_prod                       date session_id client_id  price categ sex  \\\n",
       "0  0_1483 2021-04-10 18:37:28.723910    s_18746    c_4450   4.99   0.0   f   \n",
       "2  0_1483 2021-11-14 11:11:45.276771   s_119491     c_182   4.99   0.0   f   \n",
       "3  0_1483 2021-07-30 19:37:16.087057    s_69222    c_1196   4.99   0.0   m   \n",
       "4  0_1483 2021-03-30 14:18:13.403218    s_13545    c_2890   4.99   0.0   f   \n",
       "5  0_1483 2021-05-09 17:45:59.753345    s_32218    c_4690   4.99   0.0   m   \n",
       "\n",
       "    birth annee-mois  \n",
       "0  1977.0    2021-04  \n",
       "2  1984.0    2021-11  \n",
       "3  1980.0    2021-07  \n",
       "4  1982.0    2021-03  \n",
       "5  1979.0    2021-05  "
      ]
     },
     "execution_count": 33,
     "metadata": {},
     "output_type": "execute_result"
    }
   ],
   "source": [
    "# Création du dataframe des ventes, le mois d'octobre exclu\n",
    "data_v1 = data[(data.date <= '2021-09-30') | (data.date >= '2021-11-01')]\n",
    "\n",
    "data_v1.head()"
   ]
  },
  {
   "cell_type": "markdown",
   "id": "0f6709dd",
   "metadata": {},
   "source": [
    "### Analyse des prix"
   ]
  },
  {
   "cell_type": "code",
   "execution_count": 34,
   "id": "78edb3b8",
   "metadata": {},
   "outputs": [
    {
     "data": {
      "text/plain": [
       "17.4"
      ]
     },
     "execution_count": 34,
     "metadata": {},
     "output_type": "execute_result"
    }
   ],
   "source": [
    "round(data_v1.price.mean(), 2)"
   ]
  },
  {
   "cell_type": "code",
   "execution_count": 35,
   "id": "43957f0b",
   "metadata": {},
   "outputs": [
    {
     "data": {
      "text/plain": [
       "13.99"
      ]
     },
     "execution_count": 35,
     "metadata": {},
     "output_type": "execute_result"
    }
   ],
   "source": [
    "data_v1.price.median()"
   ]
  },
  {
   "cell_type": "code",
   "execution_count": 36,
   "id": "a9044969",
   "metadata": {},
   "outputs": [
    {
     "data": {
      "text/plain": [
       "0    15.99\n",
       "dtype: float64"
      ]
     },
     "execution_count": 36,
     "metadata": {},
     "output_type": "execute_result"
    }
   ],
   "source": [
    "data_v1.price.mode()"
   ]
  },
  {
   "cell_type": "code",
   "execution_count": 37,
   "id": "c208e2ee",
   "metadata": {},
   "outputs": [
    {
     "data": {
      "text/plain": [
       "319.92"
      ]
     },
     "execution_count": 37,
     "metadata": {},
     "output_type": "execute_result"
    }
   ],
   "source": [
    "round(data_v1.price.var(ddof=0), 2)"
   ]
  },
  {
   "cell_type": "code",
   "execution_count": 38,
   "id": "cd5cf8c3",
   "metadata": {},
   "outputs": [
    {
     "data": {
      "text/plain": [
       "17.89"
      ]
     },
     "execution_count": 38,
     "metadata": {},
     "output_type": "execute_result"
    }
   ],
   "source": [
    "round(data_v1.price.std(ddof=0), 2)"
   ]
  },
  {
   "cell_type": "code",
   "execution_count": 39,
   "id": "d77072ca",
   "metadata": {},
   "outputs": [
    {
     "data": {
      "image/png": "[encoded data removed]",
      "text/plain": [
       "<Figure size 432x288 with 1 Axes>"
      ]
     },
     "metadata": {
      "needs_background": "light"
     },
     "output_type": "display_data"
    }
   ],
   "source": [
    "sns.histplot(data=data_v1, x='price', binwidth=5)\n",
    "plt.title('Distribution des prix')\n",
    "plt.savefig(\"distribution_prix.png\")\n",
    "plt.show()"
   ]
  },
  {
   "cell_type": "markdown",
   "id": "6343f39e",
   "metadata": {},
   "source": [
    "#### Les prix semblent se concentrer autour de la valeur 15, nous le remarquons bien avec les différents indicateurs de tendance centrale. Notamment le mode qui est de 15,99. Cela se confirme grâce à l'histogramme. Nous pouvons déduire que les clients ont tendance à acheter les produits dont la valeur en euros tournent autour de 15 euros.\n",
    "\n",
    "#### Notons cependant que bien que les ventes se concentrent autour de 15 euros, elles varient énormément, allant même jusqu'à 300 euros. De plus,  les clients achètent pour moins de 40 euros avec une écrasante majorité. Nous allons donc vérifier à quel point les ventes sont réparties."
   ]
  },
  {
   "cell_type": "markdown",
   "id": "1df7d656",
   "metadata": {},
   "source": [
    "### Analyse par catégorie"
   ]
  },
  {
   "cell_type": "code",
   "execution_count": 40,
   "id": "ea173dc8",
   "metadata": {
    "scrolled": true
   },
   "outputs": [
    {
     "data": {
      "image/png": "[encoded data removed]",
      "text/plain": [
       "<Figure size 432x288 with 1 Axes>"
      ]
     },
     "metadata": {
      "needs_background": "light"
     },
     "output_type": "display_data"
    }
   ],
   "source": [
    "#Comparaison de distribution des prix produits par catégorie avec un boxplot\n",
    "subset = data_v1[data_v1.price < 1000]\n",
    "subset.boxplot(column='price', by='categ')\n",
    "\n",
    "plt.title('Dispersion des prix de vente par catégorie')\n",
    "plt.xlabel('Catégories')\n",
    "plt.ylabel('Prix produits(€)')\n",
    "plt.savefig('prix_categ')\n",
    "\n",
    "plt.show()"
   ]
  },
  {
   "cell_type": "markdown",
   "id": "c73dcb3e",
   "metadata": {},
   "source": [
    "#### Nous constatons ici que les 3 catégories n'ont pas les mêmes gammes de produits. La catégorie 2 a par exemple un prix médian d'environ 60 euros contre environ 25 pour la catégorie 1. Cela explique l'inégalité présente dans la distribution des prix."
   ]
  },
  {
   "cell_type": "code",
   "execution_count": 41,
   "id": "af674721",
   "metadata": {},
   "outputs": [
    {
     "data": {
      "text/html": [
       "<div>\n",
       "<style scoped>\n",
       "    .dataframe tbody tr th:only-of-type {\n",
       "        vertical-align: middle;\n",
       "    }\n",
       "\n",
       "    .dataframe tbody tr th {\n",
       "        vertical-align: top;\n",
       "    }\n",
       "\n",
       "    .dataframe thead th {\n",
       "        text-align: right;\n",
       "    }\n",
       "</style>\n",
       "<table border=\"1\" class=\"dataframe\">\n",
       "  <thead>\n",
       "    <tr style=\"text-align: right;\">\n",
       "      <th></th>\n",
       "      <th>categ</th>\n",
       "      <th>n</th>\n",
       "      <th>f</th>\n",
       "      <th>F</th>\n",
       "    </tr>\n",
       "  </thead>\n",
       "  <tbody>\n",
       "    <tr>\n",
       "      <th>0</th>\n",
       "      <td>0.0</td>\n",
       "      <td>189821</td>\n",
       "      <td>0.604678</td>\n",
       "      <td>0.604678</td>\n",
       "    </tr>\n",
       "    <tr>\n",
       "      <th>1</th>\n",
       "      <td>1.0</td>\n",
       "      <td>107727</td>\n",
       "      <td>0.343166</td>\n",
       "      <td>0.947844</td>\n",
       "    </tr>\n",
       "    <tr>\n",
       "      <th>2</th>\n",
       "      <td>2.0</td>\n",
       "      <td>16373</td>\n",
       "      <td>0.052156</td>\n",
       "      <td>1.000000</td>\n",
       "    </tr>\n",
       "  </tbody>\n",
       "</table>\n",
       "</div>"
      ],
      "text/plain": [
       "  categ       n         f         F\n",
       "0   0.0  189821  0.604678  0.604678\n",
       "1   1.0  107727  0.343166  0.947844\n",
       "2   2.0   16373  0.052156  1.000000"
      ]
     },
     "execution_count": 41,
     "metadata": {},
     "output_type": "execute_result"
    }
   ],
   "source": [
    "effectif = data_v1['categ'].value_counts()\n",
    "modalite = effectif.index #l'index de 'effectifs' contient les modalités\n",
    "\n",
    "tab = pd.DataFrame(modalite, columns = ['categ']) #création du tableau à partir des modalités\n",
    "tab[\"n\"] = effectif.values\n",
    "tab[\"f\"] = tab[\"n\"] / len(data_v1) \n",
    "tab[\"F\"] = tab[\"f\"].cumsum() # cumsum calcule la somme cumulée\n",
    "tab"
   ]
  },
  {
   "cell_type": "code",
   "execution_count": 42,
   "id": "755ed059",
   "metadata": {},
   "outputs": [
    {
     "data": {
      "image/png": "[encoded data removed]",
      "text/plain": [
       "<Figure size 864x432 with 1 Axes>"
      ]
     },
     "metadata": {},
     "output_type": "display_data"
    }
   ],
   "source": [
    "#Pie Chart pour représenter la part de chacune des catégories de vente\n",
    "labels = 'Cat 0', 'Cat 1', 'Cat 2'\n",
    "sizes = tab['f']\n",
    "explode = (0.06, 0, 0)\n",
    "\n",
    "fig1, ax1 = plt.subplots(figsize=(12,6))\n",
    "ax1.pie(sizes, explode=explode, labels=labels, autopct='%1.1f%%', shadow=False, startangle=90)\n",
    "\n",
    "ax1.axis('equal') \n",
    "plt.title('Répartition des catégories')\n",
    "plt.savefig(\"repartition_categories.png\")\n",
    "plt.show()"
   ]
  },
  {
   "cell_type": "markdown",
   "id": "af1743f5",
   "metadata": {},
   "source": [
    "#### Les clients achètent bien plus de produits de catégorie 0, qui représente 60% des ventes contre 34% pour la catégorie 1 et 5% pour la catégorie 2. Cela s'explique en partie aux prix pratiqués selon les catégories, la catégorie 0 ayant la gamme de produit la moins onéreuse."
   ]
  },
  {
   "cell_type": "markdown",
   "id": "a894163c",
   "metadata": {},
   "source": [
    "### Ventes totales par catégorie sur l'année"
   ]
  },
  {
   "cell_type": "code",
   "execution_count": 43,
   "id": "0c273fe8",
   "metadata": {},
   "outputs": [],
   "source": [
    "vtot = data_v1.pivot_table(values='price', index='categ', aggfunc=sum).reset_index()"
   ]
  },
  {
   "cell_type": "code",
   "execution_count": 44,
   "id": "1a41f786",
   "metadata": {},
   "outputs": [
    {
     "data": {
      "image/png": "[encoded data removed]",
      "text/plain": [
       "<Figure size 432x288 with 1 Axes>"
      ]
     },
     "metadata": {
      "needs_background": "light"
     },
     "output_type": "display_data"
    }
   ],
   "source": [
    "vtot.plot(kind='bar', x='categ')\n",
    "plt.xlabel('Catégorie')\n",
    "plt.ylabel(\"Ventes totales en millions d'euros\")\n",
    "plt.title('Ventes totales par catégorie')\n",
    "plt.savefig('Ventes_tot')\n",
    "plt.show()"
   ]
  },
  {
   "cell_type": "markdown",
   "id": "7c8d4185",
   "metadata": {},
   "source": [
    "#### Nous constatons ici un meilleur chiffre d'affaire pour les produits de catégorie 1, talonné par les produits de catégorie 0. Le chiffre d'affaire des produits de catégorie 2, le moins élevé, est expliqué par son faible nombre de produits disponibles et de ventes. Ce qui est en partie compensé par le fait que ces produits sont les plus onéreux."
   ]
  },
  {
   "cell_type": "code",
   "execution_count": 45,
   "id": "81139045",
   "metadata": {},
   "outputs": [
    {
     "data": {
      "text/plain": [
       "2309"
      ]
     },
     "execution_count": 45,
     "metadata": {},
     "output_type": "execute_result"
    }
   ],
   "source": [
    "len(products_df[products_df.categ == 0].groupby('id_prod'))"
   ]
  },
  {
   "cell_type": "code",
   "execution_count": 46,
   "id": "39f01a36",
   "metadata": {},
   "outputs": [
    {
     "data": {
      "text/plain": [
       "739"
      ]
     },
     "execution_count": 46,
     "metadata": {},
     "output_type": "execute_result"
    }
   ],
   "source": [
    "len(products_df[products_df.categ == 1].groupby('id_prod'))"
   ]
  },
  {
   "cell_type": "code",
   "execution_count": 47,
   "id": "63f49a9e",
   "metadata": {},
   "outputs": [
    {
     "data": {
      "text/plain": [
       "239"
      ]
     },
     "execution_count": 47,
     "metadata": {},
     "output_type": "execute_result"
    }
   ],
   "source": [
    "len(products_df[products_df.categ == 2].groupby('id_prod'))"
   ]
  },
  {
   "cell_type": "markdown",
   "id": "29a363df",
   "metadata": {},
   "source": [
    "#### Nous constatons que les produits de catégorie 0 sont bien plus nombreux que les 2 autres catégories ce qui explique aussi pourquoi la catégorie 0 représente une grande majorité des ventes. Finalement, la proportion des produits par catégorie est cohérente par rapport à la proportion des ventes par catégorie."
   ]
  },
  {
   "cell_type": "markdown",
   "id": "bde47e91",
   "metadata": {},
   "source": [
    "### Les livres les plus vendus par catégorie"
   ]
  },
  {
   "cell_type": "code",
   "execution_count": 48,
   "id": "bbe2b689",
   "metadata": {},
   "outputs": [],
   "source": [
    "data_c0 = data_v1[(data_v1['categ'] == '0.0')]\n",
    "data_c1 = data_v1[(data_v1['categ'] == '1.0')]\n",
    "data_c2 = data_v1[(data_v1['categ'] == '2.0')]"
   ]
  },
  {
   "cell_type": "code",
   "execution_count": 49,
   "id": "cdacb44a",
   "metadata": {},
   "outputs": [
    {
     "data": {
      "text/html": [
       "<div>\n",
       "<style scoped>\n",
       "    .dataframe tbody tr th:only-of-type {\n",
       "        vertical-align: middle;\n",
       "    }\n",
       "\n",
       "    .dataframe tbody tr th {\n",
       "        vertical-align: top;\n",
       "    }\n",
       "\n",
       "    .dataframe thead th {\n",
       "        text-align: right;\n",
       "    }\n",
       "</style>\n",
       "<table border=\"1\" class=\"dataframe\">\n",
       "  <thead>\n",
       "    <tr style=\"text-align: right;\">\n",
       "      <th></th>\n",
       "      <th>id_prod</th>\n",
       "      <th>price</th>\n",
       "      <th>session_id</th>\n",
       "    </tr>\n",
       "  </thead>\n",
       "  <tbody>\n",
       "    <tr>\n",
       "      <th>464</th>\n",
       "      <td>0_1422</td>\n",
       "      <td>11.41</td>\n",
       "      <td>607</td>\n",
       "    </tr>\n",
       "    <tr>\n",
       "      <th>474</th>\n",
       "      <td>0_1431</td>\n",
       "      <td>10.99</td>\n",
       "      <td>582</td>\n",
       "    </tr>\n",
       "    <tr>\n",
       "      <th>467</th>\n",
       "      <td>0_1425</td>\n",
       "      <td>12.99</td>\n",
       "      <td>579</td>\n",
       "    </tr>\n",
       "    <tr>\n",
       "      <th>477</th>\n",
       "      <td>0_1434</td>\n",
       "      <td>8.58</td>\n",
       "      <td>567</td>\n",
       "    </tr>\n",
       "    <tr>\n",
       "      <th>470</th>\n",
       "      <td>0_1428</td>\n",
       "      <td>3.55</td>\n",
       "      <td>567</td>\n",
       "    </tr>\n",
       "    <tr>\n",
       "      <th>452</th>\n",
       "      <td>0_1411</td>\n",
       "      <td>8.99</td>\n",
       "      <td>567</td>\n",
       "    </tr>\n",
       "    <tr>\n",
       "      <th>485</th>\n",
       "      <td>0_1441</td>\n",
       "      <td>18.99</td>\n",
       "      <td>565</td>\n",
       "    </tr>\n",
       "    <tr>\n",
       "      <th>486</th>\n",
       "      <td>0_1442</td>\n",
       "      <td>4.89</td>\n",
       "      <td>562</td>\n",
       "    </tr>\n",
       "    <tr>\n",
       "      <th>466</th>\n",
       "      <td>0_1424</td>\n",
       "      <td>8.41</td>\n",
       "      <td>561</td>\n",
       "    </tr>\n",
       "    <tr>\n",
       "      <th>0</th>\n",
       "      <td>0_0</td>\n",
       "      <td>3.75</td>\n",
       "      <td>561</td>\n",
       "    </tr>\n",
       "  </tbody>\n",
       "</table>\n",
       "</div>"
      ],
      "text/plain": [
       "    id_prod  price  session_id\n",
       "464  0_1422  11.41         607\n",
       "474  0_1431  10.99         582\n",
       "467  0_1425  12.99         579\n",
       "477  0_1434   8.58         567\n",
       "470  0_1428   3.55         567\n",
       "452  0_1411   8.99         567\n",
       "485  0_1441  18.99         565\n",
       "486  0_1442   4.89         562\n",
       "466  0_1424   8.41         561\n",
       "0       0_0   3.75         561"
      ]
     },
     "execution_count": 49,
     "metadata": {},
     "output_type": "execute_result"
    }
   ],
   "source": [
    "most_sold0 = data_c0.groupby(['id_prod', 'price']).count()['session_id'].reset_index().sort_values('session_id', ascending=False)\n",
    "most_sold1 = data_c1.groupby(['id_prod', 'price']).count()['session_id'].reset_index().sort_values('session_id', ascending=False)\n",
    "most_sold2 = data_c2.groupby(['id_prod', 'price']).count()['session_id'].reset_index().sort_values('session_id', ascending=False)\n",
    "most_sold0.head(10)"
   ]
  },
  {
   "cell_type": "code",
   "execution_count": 50,
   "id": "8250f639",
   "metadata": {},
   "outputs": [
    {
     "data": {
      "text/html": [
       "<div>\n",
       "<style scoped>\n",
       "    .dataframe tbody tr th:only-of-type {\n",
       "        vertical-align: middle;\n",
       "    }\n",
       "\n",
       "    .dataframe tbody tr th {\n",
       "        vertical-align: top;\n",
       "    }\n",
       "\n",
       "    .dataframe thead th {\n",
       "        text-align: right;\n",
       "    }\n",
       "</style>\n",
       "<table border=\"1\" class=\"dataframe\">\n",
       "  <thead>\n",
       "    <tr style=\"text-align: right;\">\n",
       "      <th></th>\n",
       "      <th>id_prod</th>\n",
       "      <th>price</th>\n",
       "      <th>session_id</th>\n",
       "    </tr>\n",
       "  </thead>\n",
       "  <tbody>\n",
       "    <tr>\n",
       "      <th>299</th>\n",
       "      <td>1_369</td>\n",
       "      <td>23.99</td>\n",
       "      <td>1063</td>\n",
       "    </tr>\n",
       "    <tr>\n",
       "      <th>352</th>\n",
       "      <td>1_417</td>\n",
       "      <td>20.99</td>\n",
       "      <td>1042</td>\n",
       "    </tr>\n",
       "    <tr>\n",
       "      <th>441</th>\n",
       "      <td>1_498</td>\n",
       "      <td>23.37</td>\n",
       "      <td>1025</td>\n",
       "    </tr>\n",
       "    <tr>\n",
       "      <th>349</th>\n",
       "      <td>1_414</td>\n",
       "      <td>23.83</td>\n",
       "      <td>1008</td>\n",
       "    </tr>\n",
       "    <tr>\n",
       "      <th>361</th>\n",
       "      <td>1_425</td>\n",
       "      <td>16.99</td>\n",
       "      <td>996</td>\n",
       "    </tr>\n",
       "    <tr>\n",
       "      <th>340</th>\n",
       "      <td>1_406</td>\n",
       "      <td>24.81</td>\n",
       "      <td>934</td>\n",
       "    </tr>\n",
       "    <tr>\n",
       "      <th>330</th>\n",
       "      <td>1_398</td>\n",
       "      <td>10.17</td>\n",
       "      <td>932</td>\n",
       "    </tr>\n",
       "    <tr>\n",
       "      <th>348</th>\n",
       "      <td>1_413</td>\n",
       "      <td>17.99</td>\n",
       "      <td>928</td>\n",
       "    </tr>\n",
       "    <tr>\n",
       "      <th>337</th>\n",
       "      <td>1_403</td>\n",
       "      <td>17.99</td>\n",
       "      <td>927</td>\n",
       "    </tr>\n",
       "    <tr>\n",
       "      <th>341</th>\n",
       "      <td>1_407</td>\n",
       "      <td>15.99</td>\n",
       "      <td>918</td>\n",
       "    </tr>\n",
       "  </tbody>\n",
       "</table>\n",
       "</div>"
      ],
      "text/plain": [
       "    id_prod  price  session_id\n",
       "299   1_369  23.99        1063\n",
       "352   1_417  20.99        1042\n",
       "441   1_498  23.37        1025\n",
       "349   1_414  23.83        1008\n",
       "361   1_425  16.99         996\n",
       "340   1_406  24.81         934\n",
       "330   1_398  10.17         932\n",
       "348   1_413  17.99         928\n",
       "337   1_403  17.99         927\n",
       "341   1_407  15.99         918"
      ]
     },
     "execution_count": 50,
     "metadata": {},
     "output_type": "execute_result"
    }
   ],
   "source": [
    "most_sold1.head(10)"
   ]
  },
  {
   "cell_type": "code",
   "execution_count": 51,
   "id": "e587113e",
   "metadata": {},
   "outputs": [
    {
     "data": {
      "text/html": [
       "<div>\n",
       "<style scoped>\n",
       "    .dataframe tbody tr th:only-of-type {\n",
       "        vertical-align: middle;\n",
       "    }\n",
       "\n",
       "    .dataframe tbody tr th {\n",
       "        vertical-align: top;\n",
       "    }\n",
       "\n",
       "    .dataframe thead th {\n",
       "        text-align: right;\n",
       "    }\n",
       "</style>\n",
       "<table border=\"1\" class=\"dataframe\">\n",
       "  <thead>\n",
       "    <tr style=\"text-align: right;\">\n",
       "      <th></th>\n",
       "      <th>id_prod</th>\n",
       "      <th>price</th>\n",
       "      <th>session_id</th>\n",
       "    </tr>\n",
       "  </thead>\n",
       "  <tbody>\n",
       "    <tr>\n",
       "      <th>41</th>\n",
       "      <td>2_135</td>\n",
       "      <td>68.99</td>\n",
       "      <td>463</td>\n",
       "    </tr>\n",
       "    <tr>\n",
       "      <th>5</th>\n",
       "      <td>2_102</td>\n",
       "      <td>59.14</td>\n",
       "      <td>459</td>\n",
       "    </tr>\n",
       "    <tr>\n",
       "      <th>16</th>\n",
       "      <td>2_112</td>\n",
       "      <td>67.57</td>\n",
       "      <td>434</td>\n",
       "    </tr>\n",
       "    <tr>\n",
       "      <th>170</th>\n",
       "      <td>2_37</td>\n",
       "      <td>48.99</td>\n",
       "      <td>420</td>\n",
       "    </tr>\n",
       "    <tr>\n",
       "      <th>14</th>\n",
       "      <td>2_110</td>\n",
       "      <td>62.25</td>\n",
       "      <td>402</td>\n",
       "    </tr>\n",
       "    <tr>\n",
       "      <th>172</th>\n",
       "      <td>2_39</td>\n",
       "      <td>57.99</td>\n",
       "      <td>401</td>\n",
       "    </tr>\n",
       "    <tr>\n",
       "      <th>122</th>\n",
       "      <td>2_208</td>\n",
       "      <td>54.87</td>\n",
       "      <td>379</td>\n",
       "    </tr>\n",
       "    <tr>\n",
       "      <th>123</th>\n",
       "      <td>2_209</td>\n",
       "      <td>69.99</td>\n",
       "      <td>366</td>\n",
       "    </tr>\n",
       "    <tr>\n",
       "      <th>121</th>\n",
       "      <td>2_207</td>\n",
       "      <td>50.99</td>\n",
       "      <td>359</td>\n",
       "    </tr>\n",
       "    <tr>\n",
       "      <th>177</th>\n",
       "      <td>2_43</td>\n",
       "      <td>69.99</td>\n",
       "      <td>338</td>\n",
       "    </tr>\n",
       "  </tbody>\n",
       "</table>\n",
       "</div>"
      ],
      "text/plain": [
       "    id_prod  price  session_id\n",
       "41    2_135  68.99         463\n",
       "5     2_102  59.14         459\n",
       "16    2_112  67.57         434\n",
       "170    2_37  48.99         420\n",
       "14    2_110  62.25         402\n",
       "172    2_39  57.99         401\n",
       "122   2_208  54.87         379\n",
       "123   2_209  69.99         366\n",
       "121   2_207  50.99         359\n",
       "177    2_43  69.99         338"
      ]
     },
     "execution_count": 51,
     "metadata": {},
     "output_type": "execute_result"
    }
   ],
   "source": [
    "most_sold2.head(10)"
   ]
  },
  {
   "cell_type": "markdown",
   "id": "bb882e06",
   "metadata": {},
   "source": [
    "#### Nous remarquons ici que malgré le fait que les produits de catégorie 0 soient les plus populaires, les livres les plus vendus appartiennent à la catégorie 1. Cette différence est due en partie au fait qu'il y a 3 fois plus de livres de catégorie 0 disponibles par rapport aux livres de catégorie 1. Les prix de ces livres les plus vendus se concentrent autour de 12 euros pour la catégorie 0, 20 euros pour la catgéorie 1, et 60 euros pour la catégorie 2. De plus, nous constatons bien que les clients ont une préférence pour les produits à moins de 40 euros."
   ]
  },
  {
   "cell_type": "markdown",
   "id": "017c4d6d",
   "metadata": {},
   "source": [
    "### Analyse des ventes"
   ]
  },
  {
   "cell_type": "markdown",
   "id": "20871662",
   "metadata": {},
   "source": [
    "### Analyse du nombre d'achats par client"
   ]
  },
  {
   "cell_type": "code",
   "execution_count": 52,
   "id": "542c4e95",
   "metadata": {},
   "outputs": [
    {
     "data": {
      "text/html": [
       "<div>\n",
       "<style scoped>\n",
       "    .dataframe tbody tr th:only-of-type {\n",
       "        vertical-align: middle;\n",
       "    }\n",
       "\n",
       "    .dataframe tbody tr th {\n",
       "        vertical-align: top;\n",
       "    }\n",
       "\n",
       "    .dataframe thead th {\n",
       "        text-align: right;\n",
       "    }\n",
       "</style>\n",
       "<table border=\"1\" class=\"dataframe\">\n",
       "  <thead>\n",
       "    <tr style=\"text-align: right;\">\n",
       "      <th></th>\n",
       "      <th>client_id</th>\n",
       "      <th>nb_transaction</th>\n",
       "    </tr>\n",
       "  </thead>\n",
       "  <tbody>\n",
       "    <tr>\n",
       "      <th>677</th>\n",
       "      <td>c_1609</td>\n",
       "      <td>11794</td>\n",
       "    </tr>\n",
       "    <tr>\n",
       "      <th>6336</th>\n",
       "      <td>c_6714</td>\n",
       "      <td>4167</td>\n",
       "    </tr>\n",
       "    <tr>\n",
       "      <th>2723</th>\n",
       "      <td>c_3454</td>\n",
       "      <td>3130</td>\n",
       "    </tr>\n",
       "    <tr>\n",
       "      <th>4387</th>\n",
       "      <td>c_4958</td>\n",
       "      <td>2452</td>\n",
       "    </tr>\n",
       "    <tr>\n",
       "      <th>7790</th>\n",
       "      <td>c_8026</td>\n",
       "      <td>184</td>\n",
       "    </tr>\n",
       "  </tbody>\n",
       "</table>\n",
       "</div>"
      ],
      "text/plain": [
       "     client_id  nb_transaction\n",
       "677     c_1609           11794\n",
       "6336    c_6714            4167\n",
       "2723    c_3454            3130\n",
       "4387    c_4958            2452\n",
       "7790    c_8026             184"
      ]
     },
     "execution_count": 52,
     "metadata": {},
     "output_type": "execute_result"
    }
   ],
   "source": [
    "fid_client = data_v1.groupby('client_id').count().reset_index()\n",
    "fid_client['nb_transaction'] = fid_client.session_id\n",
    "fid_client = fid_client[['client_id', 'nb_transaction']]\n",
    "fid_client.sort_values(by='nb_transaction', ascending=False).head()"
   ]
  },
  {
   "cell_type": "code",
   "execution_count": 53,
   "id": "a16e9d89",
   "metadata": {},
   "outputs": [
    {
     "data": {
      "text/plain": [
       "8552"
      ]
     },
     "execution_count": 53,
     "metadata": {},
     "output_type": "execute_result"
    }
   ],
   "source": [
    "#Nombre de client ayant effectué plus d'un achat\n",
    "fid_client[fid_client['nb_transaction'] > 1].shape[0]"
   ]
  },
  {
   "cell_type": "code",
   "execution_count": 54,
   "id": "febf42bf",
   "metadata": {},
   "outputs": [
    {
     "data": {
      "text/plain": [
       "46"
      ]
     },
     "execution_count": 54,
     "metadata": {},
     "output_type": "execute_result"
    }
   ],
   "source": [
    "#Nombre de client ayant effectué un seul achat\n",
    "fid_client[fid_client['nb_transaction'] == 1].shape[0]"
   ]
  },
  {
   "cell_type": "markdown",
   "id": "a38a8deb",
   "metadata": {},
   "source": [
    "#### 8552 clients ont donc effetcué au moins 2 achats, nous observons alors une bonne fidélisation des clients qui n'hésitent pas à revenir acheter des produits. En effet, seulement 46 clients n'ont effectué qu'un achat. Obervons maintenant la distribution du nombre d'achat par client."
   ]
  },
  {
   "cell_type": "code",
   "execution_count": 55,
   "id": "15ebd385",
   "metadata": {},
   "outputs": [
    {
     "data": {
      "image/png": "[encoded data removed]",
      "text/plain": [
       "<Figure size 432x288 with 1 Axes>"
      ]
     },
     "metadata": {
      "needs_background": "light"
     },
     "output_type": "display_data"
    }
   ],
   "source": [
    "fid_client.boxplot('nb_transaction')\n",
    "plt.xlabel(\"Nombre d'achats\")\n",
    "plt.title(\"Dispersion du nombre  d'achats par client\")\n",
    "plt.savefig(\"nb_achat_client\")\n",
    "plt.show()"
   ]
  },
  {
   "cell_type": "code",
   "execution_count": 56,
   "id": "c50f906d",
   "metadata": {},
   "outputs": [
    {
     "data": {
      "image/png": "[encoded data removed]",
      "text/plain": [
       "<Figure size 432x288 with 1 Axes>"
      ]
     },
     "metadata": {
      "needs_background": "light"
     },
     "output_type": "display_data"
    }
   ],
   "source": [
    "transaction = fid_client['nb_transaction'].values\n",
    "\n",
    "lorenz_nb = np.cumsum(np.sort(transaction)) / transaction.sum()\n",
    "\n",
    "plt.plot(np.linspace(0,1,len(lorenz_nb)), lorenz_nb,  label='Lorenz')\n",
    "plt.fill_between(np.linspace(0,1,len(lorenz_nb)) ,lorenz_nb )\n",
    "plt.plot([0, 1], [0, 1],  label='Distribution égalitaire')\n",
    "plt.vlines(x=.82, ymin=0, ymax=.5, color='blue', linestyle='--', label='Medial')\n",
    "plt.hlines(xmin=.82, xmax=0, y=.5, color='blue', linestyle='--')\n",
    "\n",
    "plt.title(\"Courbe de Lorenz du nombre d'achats par client\")\n",
    "plt.xlabel(\"Distribution des clients selon le nombre d'achats (%)\")\n",
    "plt.ylabel(\"Cumul du nombre d'achats(%)\")\n",
    "plt.legend()\n",
    "plt.savefig('lorenz_achat_client')\n",
    "\n",
    "plt.show()"
   ]
  },
  {
   "cell_type": "code",
   "execution_count": 57,
   "id": "a15bd24f",
   "metadata": {},
   "outputs": [
    {
     "name": "stdout",
     "output_type": "stream",
     "text": [
      "L'indice de gini est égal à 0.49\n"
     ]
    }
   ],
   "source": [
    "AUC_1 = lorenz_nb.sum()/len(lorenz_nb) # Surface sous la courbe de Lorenz. Le premier segment (lorenz[0]) est à moitié en dessous de 0, on le coupe donc en 2, on fait de même pour le dernier segment lorenz[-1] qui est à moitié au dessus de 1.\n",
    "S1 = 0.5 - AUC_1 # surface entre la première bissectrice et le courbe de Lorenz\n",
    "gini_1 = round(2*S1,2)\n",
    "print(f\"L'indice de gini est égal à {gini_1}\")"
   ]
  },
  {
   "cell_type": "markdown",
   "id": "6aa9b0e3",
   "metadata": {},
   "source": [
    "#### Nous constatons une certaine inégalité de répartition du nombre d'achat par client. En effet, seulement 18% des clients cumulent à eux seuls 50% du nombre total d'achats. Cela se confirme avec l'indice de gini qui est de 0,49. Ce phénomène est notamment expliqué par le fait que 4 clients achètent en masse les livres, certainement pour les revendre. Nous allons maintenant voir ce que cela donne en termes de prix."
   ]
  },
  {
   "cell_type": "code",
   "execution_count": 58,
   "id": "2396f706",
   "metadata": {
    "scrolled": true
   },
   "outputs": [
    {
     "data": {
      "text/html": [
       "<div>\n",
       "<style scoped>\n",
       "    .dataframe tbody tr th:only-of-type {\n",
       "        vertical-align: middle;\n",
       "    }\n",
       "\n",
       "    .dataframe tbody tr th {\n",
       "        vertical-align: top;\n",
       "    }\n",
       "\n",
       "    .dataframe thead th {\n",
       "        text-align: right;\n",
       "    }\n",
       "</style>\n",
       "<table border=\"1\" class=\"dataframe\">\n",
       "  <thead>\n",
       "    <tr style=\"text-align: right;\">\n",
       "      <th></th>\n",
       "      <th>client_id</th>\n",
       "      <th>price</th>\n",
       "    </tr>\n",
       "  </thead>\n",
       "  <tbody>\n",
       "    <tr>\n",
       "      <th>677</th>\n",
       "      <td>c_1609</td>\n",
       "      <td>150221.600000</td>\n",
       "    </tr>\n",
       "    <tr>\n",
       "      <th>4387</th>\n",
       "      <td>c_4958</td>\n",
       "      <td>136786.570000</td>\n",
       "    </tr>\n",
       "    <tr>\n",
       "      <th>6336</th>\n",
       "      <td>c_6714</td>\n",
       "      <td>69117.321243</td>\n",
       "    </tr>\n",
       "    <tr>\n",
       "      <th>2723</th>\n",
       "      <td>c_3454</td>\n",
       "      <td>52627.221243</td>\n",
       "    </tr>\n",
       "    <tr>\n",
       "      <th>7790</th>\n",
       "      <td>c_8026</td>\n",
       "      <td>2441.705621</td>\n",
       "    </tr>\n",
       "  </tbody>\n",
       "</table>\n",
       "</div>"
      ],
      "text/plain": [
       "     client_id          price\n",
       "677     c_1609  150221.600000\n",
       "4387    c_4958  136786.570000\n",
       "6336    c_6714   69117.321243\n",
       "2723    c_3454   52627.221243\n",
       "7790    c_8026    2441.705621"
      ]
     },
     "execution_count": 58,
     "metadata": {},
     "output_type": "execute_result"
    }
   ],
   "source": [
    "achat_client = data_v1.groupby('client_id').price.sum().reset_index()\n",
    "achat_client.sort_values(by='price', ascending=False).head()"
   ]
  },
  {
   "cell_type": "code",
   "execution_count": 59,
   "id": "2b0c78b6",
   "metadata": {},
   "outputs": [
    {
     "data": {
      "image/png": "[encoded data removed]",
      "text/plain": [
       "<Figure size 432x288 with 1 Axes>"
      ]
     },
     "metadata": {
      "needs_background": "light"
     },
     "output_type": "display_data"
    }
   ],
   "source": [
    "achat_client.boxplot('price')\n",
    "plt.xlabel('Montant')\n",
    "plt.title('Dispersion des montants par client')\n",
    "plt.savefig('montant_client')\n",
    "plt.show()"
   ]
  },
  {
   "cell_type": "code",
   "execution_count": 60,
   "id": "f74ab5c0",
   "metadata": {},
   "outputs": [
    {
     "data": {
      "image/png": "[encoded data removed]",
      "text/plain": [
       "<Figure size 432x288 with 1 Axes>"
      ]
     },
     "metadata": {
      "needs_background": "light"
     },
     "output_type": "display_data"
    }
   ],
   "source": [
    "prix = achat_client['price'].values\n",
    "\n",
    "lorenz = np.cumsum(np.sort(prix)) / prix.sum()\n",
    "\n",
    "plt.plot(np.linspace(0,1,len(lorenz)), lorenz,  label='Lorenz')\n",
    "plt.fill_between(np.linspace(0,1,len(lorenz)) ,lorenz)\n",
    "plt.plot([0, 1], [0, 1],  label='Distribution égalitaire')\n",
    "plt.vlines(x=.78, ymin=0, ymax=.5, color='blue', linestyle='--', label='Medial')\n",
    "plt.hlines(xmin=.78, xmax=0, y=.5, color='blue', linestyle='--')\n",
    "\n",
    "plt.title(\"Courbe de Lorenz du montant des achats par client\")\n",
    "plt.xlabel(\"Distribution des clients selon le montant des achats (%)\")\n",
    "plt.ylabel(\"Cumul du montant des achats (%)\")\n",
    "plt.legend()\n",
    "plt.savefig('lorenz_montant_client')\n",
    "\n",
    "plt.show()"
   ]
  },
  {
   "cell_type": "code",
   "execution_count": 61,
   "id": "f1be5ad3",
   "metadata": {},
   "outputs": [
    {
     "name": "stdout",
     "output_type": "stream",
     "text": [
      "L'indice de gini est égal à 0.44\n"
     ]
    }
   ],
   "source": [
    "AUC_2 = lorenz.sum()/len(lorenz) # Surface sous la courbe de Lorenz. Le premier segment (lorenz[0]) est à moitié en dessous de 0, on le coupe donc en 2, on fait de même pour le dernier segment lorenz[-1] qui est à moitié au dessus de 1.\n",
    "S2 = 0.5 - AUC_2 # surface entre la première bissectrice et le courbe de Lorenz\n",
    "gini_2 = round(2*S2,2)\n",
    "print(f\"L'indice de gini est égal à {gini_2}\")"
   ]
  },
  {
   "cell_type": "markdown",
   "id": "ef9c450f",
   "metadata": {},
   "source": [
    "#### De même, nous observons relativement la même inégalité de répartition des montants des achats. En effet, 22% des clients cumulent 50% du montant total des achats. Cela se confirme avec l'indice de Gini qui est de 0,44."
   ]
  },
  {
   "cell_type": "markdown",
   "id": "45925365",
   "metadata": {},
   "source": [
    "#### Finalement, nous remarquons, grâce aux nombres d'achats par clients ainsi que les sommes dépensées par ces mêmes clients, qu'il existe 4 gros clients qui sortent du lot. En effet, leurs sommes dépensées dépassent de très loin celles dépensées par des clients lambda ( au moins 50 000 euros de différences ). Aussi il est utile, pour la suite de l'analyse, de supprimer ces 4 gros clients de l'analyse. Car ils fausseraient les analyses de par leurs montants beaucoup trop élevés."
   ]
  },
  {
   "cell_type": "code",
   "execution_count": 62,
   "id": "3a527218",
   "metadata": {},
   "outputs": [
    {
     "data": {
      "text/html": [
       "<div>\n",
       "<style scoped>\n",
       "    .dataframe tbody tr th:only-of-type {\n",
       "        vertical-align: middle;\n",
       "    }\n",
       "\n",
       "    .dataframe tbody tr th {\n",
       "        vertical-align: top;\n",
       "    }\n",
       "\n",
       "    .dataframe thead th {\n",
       "        text-align: right;\n",
       "    }\n",
       "</style>\n",
       "<table border=\"1\" class=\"dataframe\">\n",
       "  <thead>\n",
       "    <tr style=\"text-align: right;\">\n",
       "      <th></th>\n",
       "      <th>id_prod</th>\n",
       "      <th>date</th>\n",
       "      <th>session_id</th>\n",
       "      <th>client_id</th>\n",
       "      <th>price</th>\n",
       "      <th>categ</th>\n",
       "      <th>sex</th>\n",
       "      <th>birth</th>\n",
       "      <th>annee-mois</th>\n",
       "    </tr>\n",
       "  </thead>\n",
       "  <tbody>\n",
       "    <tr>\n",
       "      <th>6</th>\n",
       "      <td>0_1483</td>\n",
       "      <td>2021-09-19 08:45:43.735331</td>\n",
       "      <td>s_92165</td>\n",
       "      <td>c_1609</td>\n",
       "      <td>4.99</td>\n",
       "      <td>0.0</td>\n",
       "      <td>m</td>\n",
       "      <td>1980.0</td>\n",
       "      <td>2021-09</td>\n",
       "    </tr>\n",
       "    <tr>\n",
       "      <th>15</th>\n",
       "      <td>0_1483</td>\n",
       "      <td>2021-07-22 20:45:15.286364</td>\n",
       "      <td>s_65805</td>\n",
       "      <td>c_1609</td>\n",
       "      <td>4.99</td>\n",
       "      <td>0.0</td>\n",
       "      <td>m</td>\n",
       "      <td>1980.0</td>\n",
       "      <td>2021-07</td>\n",
       "    </tr>\n",
       "    <tr>\n",
       "      <th>16</th>\n",
       "      <td>0_1483</td>\n",
       "      <td>2021-03-31 23:22:23.322344</td>\n",
       "      <td>s_14189</td>\n",
       "      <td>c_6714</td>\n",
       "      <td>4.99</td>\n",
       "      <td>0.0</td>\n",
       "      <td>f</td>\n",
       "      <td>1968.0</td>\n",
       "      <td>2021-03</td>\n",
       "    </tr>\n",
       "    <tr>\n",
       "      <th>26</th>\n",
       "      <td>0_1483</td>\n",
       "      <td>2022-02-12 00:32:17.901505</td>\n",
       "      <td>s_163732</td>\n",
       "      <td>c_6714</td>\n",
       "      <td>4.99</td>\n",
       "      <td>0.0</td>\n",
       "      <td>f</td>\n",
       "      <td>1968.0</td>\n",
       "      <td>2022-02</td>\n",
       "    </tr>\n",
       "    <tr>\n",
       "      <th>30</th>\n",
       "      <td>0_1483</td>\n",
       "      <td>2021-05-08 06:20:05.395325</td>\n",
       "      <td>s_31519</td>\n",
       "      <td>c_1609</td>\n",
       "      <td>4.99</td>\n",
       "      <td>0.0</td>\n",
       "      <td>m</td>\n",
       "      <td>1980.0</td>\n",
       "      <td>2021-05</td>\n",
       "    </tr>\n",
       "    <tr>\n",
       "      <th>...</th>\n",
       "      <td>...</td>\n",
       "      <td>...</td>\n",
       "      <td>...</td>\n",
       "      <td>...</td>\n",
       "      <td>...</td>\n",
       "      <td>...</td>\n",
       "      <td>...</td>\n",
       "      <td>...</td>\n",
       "      <td>...</td>\n",
       "    </tr>\n",
       "    <tr>\n",
       "      <th>336994</th>\n",
       "      <td>0_1871</td>\n",
       "      <td>2021-11-01 07:26:17.783922</td>\n",
       "      <td>s_113092</td>\n",
       "      <td>c_1609</td>\n",
       "      <td>1.99</td>\n",
       "      <td>0.0</td>\n",
       "      <td>m</td>\n",
       "      <td>1980.0</td>\n",
       "      <td>2021-11</td>\n",
       "    </tr>\n",
       "    <tr>\n",
       "      <th>336998</th>\n",
       "      <td>2_4</td>\n",
       "      <td>2021-03-24 03:00:33.392992</td>\n",
       "      <td>s_10641</td>\n",
       "      <td>c_4958</td>\n",
       "      <td>222.97</td>\n",
       "      <td>2.0</td>\n",
       "      <td>m</td>\n",
       "      <td>1999.0</td>\n",
       "      <td>2021-03</td>\n",
       "    </tr>\n",
       "    <tr>\n",
       "      <th>337001</th>\n",
       "      <td>1_470</td>\n",
       "      <td>2021-03-04 09:41:40.700704</td>\n",
       "      <td>s_1550</td>\n",
       "      <td>c_1609</td>\n",
       "      <td>5.41</td>\n",
       "      <td>1.0</td>\n",
       "      <td>m</td>\n",
       "      <td>1980.0</td>\n",
       "      <td>2021-03</td>\n",
       "    </tr>\n",
       "    <tr>\n",
       "      <th>337005</th>\n",
       "      <td>0_1191</td>\n",
       "      <td>2021-06-20 12:48:50.925796</td>\n",
       "      <td>s_51304</td>\n",
       "      <td>c_1609</td>\n",
       "      <td>0.99</td>\n",
       "      <td>0.0</td>\n",
       "      <td>m</td>\n",
       "      <td>1980.0</td>\n",
       "      <td>2021-06</td>\n",
       "    </tr>\n",
       "    <tr>\n",
       "      <th>337008</th>\n",
       "      <td>0_1726</td>\n",
       "      <td>2021-06-12 14:46:57.166761</td>\n",
       "      <td>s_47673</td>\n",
       "      <td>c_3454</td>\n",
       "      <td>1.57</td>\n",
       "      <td>0.0</td>\n",
       "      <td>m</td>\n",
       "      <td>1969.0</td>\n",
       "      <td>2021-06</td>\n",
       "    </tr>\n",
       "  </tbody>\n",
       "</table>\n",
       "<p>21543 rows × 9 columns</p>\n",
       "</div>"
      ],
      "text/plain": [
       "       id_prod                       date session_id client_id   price categ  \\\n",
       "6       0_1483 2021-09-19 08:45:43.735331    s_92165    c_1609    4.99   0.0   \n",
       "15      0_1483 2021-07-22 20:45:15.286364    s_65805    c_1609    4.99   0.0   \n",
       "16      0_1483 2021-03-31 23:22:23.322344    s_14189    c_6714    4.99   0.0   \n",
       "26      0_1483 2022-02-12 00:32:17.901505   s_163732    c_6714    4.99   0.0   \n",
       "30      0_1483 2021-05-08 06:20:05.395325    s_31519    c_1609    4.99   0.0   \n",
       "...        ...                        ...        ...       ...     ...   ...   \n",
       "336994  0_1871 2021-11-01 07:26:17.783922   s_113092    c_1609    1.99   0.0   \n",
       "336998     2_4 2021-03-24 03:00:33.392992    s_10641    c_4958  222.97   2.0   \n",
       "337001   1_470 2021-03-04 09:41:40.700704     s_1550    c_1609    5.41   1.0   \n",
       "337005  0_1191 2021-06-20 12:48:50.925796    s_51304    c_1609    0.99   0.0   \n",
       "337008  0_1726 2021-06-12 14:46:57.166761    s_47673    c_3454    1.57   0.0   \n",
       "\n",
       "       sex   birth annee-mois  \n",
       "6        m  1980.0    2021-09  \n",
       "15       m  1980.0    2021-07  \n",
       "16       f  1968.0    2021-03  \n",
       "26       f  1968.0    2022-02  \n",
       "30       m  1980.0    2021-05  \n",
       "...     ..     ...        ...  \n",
       "336994   m  1980.0    2021-11  \n",
       "336998   m  1999.0    2021-03  \n",
       "337001   m  1980.0    2021-03  \n",
       "337005   m  1980.0    2021-06  \n",
       "337008   m  1969.0    2021-06  \n",
       "\n",
       "[21543 rows x 9 columns]"
      ]
     },
     "execution_count": 62,
     "metadata": {},
     "output_type": "execute_result"
    }
   ],
   "source": [
    "vip = data_v1[(data_v1['client_id'] == 'c_1609') | (data_v1['client_id'] == 'c_4958') | (data_v1['client_id'] == 'c_6714') | (data_v1['client_id'] == 'c_3454')]\n",
    "vip_index = vip.index\n",
    "vip"
   ]
  },
  {
   "cell_type": "code",
   "execution_count": 63,
   "id": "020336e7",
   "metadata": {},
   "outputs": [],
   "source": [
    "data_v2 = data_v1.drop(index=vip_index, axis=0)"
   ]
  },
  {
   "cell_type": "markdown",
   "id": "62502d66",
   "metadata": {},
   "source": [
    "### Analyse par âge des clients"
   ]
  },
  {
   "cell_type": "code",
   "execution_count": 64,
   "id": "7dde95f5",
   "metadata": {},
   "outputs": [],
   "source": [
    "data_v2['âge'] = 2022 - data_v2.birth"
   ]
  },
  {
   "cell_type": "code",
   "execution_count": 65,
   "id": "19f72867",
   "metadata": {},
   "outputs": [
    {
     "data": {
      "image/png": "[encoded data removed]",
      "text/plain": [
       "<Figure size 432x288 with 1 Axes>"
      ]
     },
     "metadata": {
      "needs_background": "light"
     },
     "output_type": "display_data"
    }
   ],
   "source": [
    "data_v2.âge.hist(bins=10)\n",
    "\n",
    "plt.xlabel('Age')\n",
    "plt.title('Distribution des âges des clients')\n",
    "plt.savefig('distribution_age')\n",
    "\n",
    "plt.show()"
   ]
  },
  {
   "cell_type": "markdown",
   "id": "ce8de76f",
   "metadata": {},
   "source": [
    "#### Les produits sont achetés en majorité par des clients qui ont entre 32 et 55 ans. "
   ]
  },
  {
   "cell_type": "markdown",
   "id": "d9d35626",
   "metadata": {},
   "source": [
    "### Analyse par sexe"
   ]
  },
  {
   "cell_type": "code",
   "execution_count": 66,
   "id": "e0a16f41",
   "metadata": {},
   "outputs": [
    {
     "data": {
      "text/plain": [
       "f    152296\n",
       "m    140082\n",
       "Name: sex, dtype: int64"
      ]
     },
     "execution_count": 66,
     "metadata": {},
     "output_type": "execute_result"
    }
   ],
   "source": [
    "data_v2['sex'].value_counts()"
   ]
  },
  {
   "cell_type": "code",
   "execution_count": 67,
   "id": "8aa3b108",
   "metadata": {},
   "outputs": [
    {
     "data": {
      "text/html": [
       "<div>\n",
       "<style scoped>\n",
       "    .dataframe tbody tr th:only-of-type {\n",
       "        vertical-align: middle;\n",
       "    }\n",
       "\n",
       "    .dataframe tbody tr th {\n",
       "        vertical-align: top;\n",
       "    }\n",
       "\n",
       "    .dataframe thead th {\n",
       "        text-align: right;\n",
       "    }\n",
       "</style>\n",
       "<table border=\"1\" class=\"dataframe\">\n",
       "  <thead>\n",
       "    <tr style=\"text-align: right;\">\n",
       "      <th>categ</th>\n",
       "      <th>sex</th>\n",
       "      <th>0.0</th>\n",
       "      <th>1.0</th>\n",
       "      <th>2.0</th>\n",
       "    </tr>\n",
       "  </thead>\n",
       "  <tbody>\n",
       "    <tr>\n",
       "      <th>0</th>\n",
       "      <td>f</td>\n",
       "      <td>977181.607933</td>\n",
       "      <td>1084246.59</td>\n",
       "      <td>566288.29</td>\n",
       "    </tr>\n",
       "    <tr>\n",
       "      <th>1</th>\n",
       "      <td>m</td>\n",
       "      <td>907850.359233</td>\n",
       "      <td>978899.42</td>\n",
       "      <td>537722.56</td>\n",
       "    </tr>\n",
       "  </tbody>\n",
       "</table>\n",
       "</div>"
      ],
      "text/plain": [
       "categ sex            0.0         1.0        2.0\n",
       "0       f  977181.607933  1084246.59  566288.29\n",
       "1       m  907850.359233   978899.42  537722.56"
      ]
     },
     "execution_count": 67,
     "metadata": {},
     "output_type": "execute_result"
    }
   ],
   "source": [
    "hf_df = data_v2.pivot_table(index='sex', columns='categ', values='price', aggfunc=sum).reset_index()\n",
    "hf_df"
   ]
  },
  {
   "cell_type": "code",
   "execution_count": 68,
   "id": "ca29ab28",
   "metadata": {},
   "outputs": [
    {
     "data": {
      "image/png": "[encoded data removed]",
      "text/plain": [
       "<Figure size 432x288 with 1 Axes>"
      ]
     },
     "metadata": {
      "needs_background": "light"
     },
     "output_type": "display_data"
    }
   ],
   "source": [
    "hf_df.plot(kind='bar', x='sex')\n",
    "\n",
    "plt.title('Répartition Hommes/Femmes selon les catégories')\n",
    "plt.xlabel('Sexe')\n",
    "plt.ylabel(\"Montant en million d'euros\")\n",
    "plt.savefig('sexe_categ')\n",
    "\n",
    "plt.show()"
   ]
  },
  {
   "cell_type": "markdown",
   "id": "5a4aabf0",
   "metadata": {},
   "source": [
    "#### Les femmes dépensent plus que les hommes, d'une légère différence, tant au niveau du nombre d'achats qu'au niveau du montant total par catégorie."
   ]
  },
  {
   "cell_type": "markdown",
   "id": "d7245f9c",
   "metadata": {},
   "source": [
    "### Corrélation entre le sexe des clients et la catégorie des produits"
   ]
  },
  {
   "cell_type": "code",
   "execution_count": 69,
   "id": "89509f04",
   "metadata": {},
   "outputs": [
    {
     "data": {
      "text/html": [
       "<div>\n",
       "<style scoped>\n",
       "    .dataframe tbody tr th:only-of-type {\n",
       "        vertical-align: middle;\n",
       "    }\n",
       "\n",
       "    .dataframe tbody tr th {\n",
       "        vertical-align: top;\n",
       "    }\n",
       "\n",
       "    .dataframe thead th {\n",
       "        text-align: right;\n",
       "    }\n",
       "</style>\n",
       "<table border=\"1\" class=\"dataframe\">\n",
       "  <thead>\n",
       "    <tr style=\"text-align: right;\">\n",
       "      <th>categ</th>\n",
       "      <th>0.0</th>\n",
       "      <th>1.0</th>\n",
       "      <th>2.0</th>\n",
       "      <th>Total</th>\n",
       "    </tr>\n",
       "    <tr>\n",
       "      <th>sex</th>\n",
       "      <th></th>\n",
       "      <th></th>\n",
       "      <th></th>\n",
       "      <th></th>\n",
       "    </tr>\n",
       "  </thead>\n",
       "  <tbody>\n",
       "    <tr>\n",
       "      <th>f</th>\n",
       "      <td>91890</td>\n",
       "      <td>52841</td>\n",
       "      <td>7565</td>\n",
       "      <td>152296</td>\n",
       "    </tr>\n",
       "    <tr>\n",
       "      <th>m</th>\n",
       "      <td>85075</td>\n",
       "      <td>47890</td>\n",
       "      <td>7117</td>\n",
       "      <td>140082</td>\n",
       "    </tr>\n",
       "    <tr>\n",
       "      <th>Total</th>\n",
       "      <td>176965</td>\n",
       "      <td>100731</td>\n",
       "      <td>14682</td>\n",
       "      <td>292378</td>\n",
       "    </tr>\n",
       "  </tbody>\n",
       "</table>\n",
       "</div>"
      ],
      "text/plain": [
       "categ     0.0     1.0    2.0   Total\n",
       "sex                                 \n",
       "f       91890   52841   7565  152296\n",
       "m       85075   47890   7117  140082\n",
       "Total  176965  100731  14682  292378"
      ]
     },
     "execution_count": 69,
     "metadata": {},
     "output_type": "execute_result"
    }
   ],
   "source": [
    "c = data_v2[['sex', 'categ']].pivot_table(index='sex',columns='categ',aggfunc=len, margins=True, margins_name='Total')\n",
    "c"
   ]
  },
  {
   "cell_type": "code",
   "execution_count": 70,
   "id": "79626413",
   "metadata": {},
   "outputs": [
    {
     "data": {
      "image/png": "[encoded data removed]",
      "text/plain": [
       "<Figure size 432x288 with 2 Axes>"
      ]
     },
     "metadata": {
      "needs_background": "light"
     },
     "output_type": "display_data"
    }
   ],
   "source": [
    "tx = c.loc[:,[\"Total\"]]\n",
    "ty = c.loc[[\"Total\"],:]\n",
    "n = len(data_v2)\n",
    "indep = tx.dot(ty) / n\n",
    "\n",
    "measure = (c-indep)**2/indep\n",
    "xi_n = measure.sum().sum()\n",
    "table = measure/xi_n\n",
    "sns.heatmap(table.iloc[:-1,:-1],annot=c.iloc[:-1,:-1])\n",
    "plt.title('HeatMap Sexe clients vs Catégorie produits')\n",
    "plt.xlabel('Catégorie')\n",
    "plt.ylabel('Sexe')\n",
    "plt.savefig('heeatmap_sexe_categ')\n",
    "plt.show()"
   ]
  },
  {
   "cell_type": "code",
   "execution_count": 71,
   "id": "d7426918",
   "metadata": {},
   "outputs": [
    {
     "data": {
      "text/html": [
       "<div>\n",
       "<style scoped>\n",
       "    .dataframe tbody tr th:only-of-type {\n",
       "        vertical-align: middle;\n",
       "    }\n",
       "\n",
       "    .dataframe tbody tr th {\n",
       "        vertical-align: top;\n",
       "    }\n",
       "\n",
       "    .dataframe thead th {\n",
       "        text-align: right;\n",
       "    }\n",
       "</style>\n",
       "<table border=\"1\" class=\"dataframe\">\n",
       "  <thead>\n",
       "    <tr style=\"text-align: right;\">\n",
       "      <th>categ</th>\n",
       "      <th>0.0</th>\n",
       "      <th>1.0</th>\n",
       "      <th>2.0</th>\n",
       "    </tr>\n",
       "    <tr>\n",
       "      <th>sex</th>\n",
       "      <th></th>\n",
       "      <th></th>\n",
       "      <th></th>\n",
       "    </tr>\n",
       "  </thead>\n",
       "  <tbody>\n",
       "    <tr>\n",
       "      <th>f</th>\n",
       "      <td>91890</td>\n",
       "      <td>52841</td>\n",
       "      <td>7565</td>\n",
       "    </tr>\n",
       "    <tr>\n",
       "      <th>m</th>\n",
       "      <td>85075</td>\n",
       "      <td>47890</td>\n",
       "      <td>7117</td>\n",
       "    </tr>\n",
       "  </tbody>\n",
       "</table>\n",
       "</div>"
      ],
      "text/plain": [
       "categ    0.0    1.0   2.0\n",
       "sex                      \n",
       "f      91890  52841  7565\n",
       "m      85075  47890  7117"
      ]
     },
     "execution_count": 71,
     "metadata": {},
     "output_type": "execute_result"
    }
   ],
   "source": [
    "cont = data_v2[['sex', 'categ']].pivot_table(index='sex',columns='categ',aggfunc=len)\n",
    "cont"
   ]
  },
  {
   "cell_type": "code",
   "execution_count": 72,
   "id": "8c4a1ca1",
   "metadata": {},
   "outputs": [
    {
     "data": {
      "text/plain": [
       "(9.24395840553322, 2, 0.009833314665140036)"
      ]
     },
     "execution_count": 72,
     "metadata": {},
     "output_type": "execute_result"
    }
   ],
   "source": [
    "chi2, pvalue, degrees, expected = st.chi2_contingency(cont)\n",
    "chi2, degrees, pvalue"
   ]
  },
  {
   "cell_type": "markdown",
   "id": "91f8238a",
   "metadata": {},
   "source": [
    "#### Le test de Chi2 est utilisé pour tester l'hypothèse nulle (H0) d'absence de relation entre deux variables catégorielles, ce test vérifie donc l'hypothèse d'indépendance de ces variables. La valeur de Chi2 est une quantification de cet écart (entre les occurences attendues et celles observées). Plus la valeur sera élevée, plus l'écart entre l'hypothèse nulle et la situation réelle sera grand. Plus l’occurrence observée est près de l’occurrence attendue, plus la fraction calculée pour chaque cellule est petite et moins l’écart avec H0 est grand."
   ]
  },
  {
   "cell_type": "markdown",
   "id": "bec2e56e",
   "metadata": {},
   "source": [
    "#### L'indice élevé du Chi2 démontre une importance significative entre les occurences théoriques et celles du tableau de contigence. De plus, la comparaison de p-value (0,98%) avec notre seuil de significativité (5%) expose une valeur inférieure au seuil. L'hypothèse nulle est rejetée en faveur de l’hypothèse alternative, il y a donc une corrélation entre le sexe des clients et les catégories produits, et elle est plûtot forte."
   ]
  },
  {
   "cell_type": "markdown",
   "id": "0af7e1a5",
   "metadata": {},
   "source": [
    "### Corrélation entre l'âge des clients et le montant total des achats"
   ]
  },
  {
   "cell_type": "code",
   "execution_count": 73,
   "id": "ecffa2c2",
   "metadata": {},
   "outputs": [
    {
     "data": {
      "text/html": [
       "<div>\n",
       "<style scoped>\n",
       "    .dataframe tbody tr th:only-of-type {\n",
       "        vertical-align: middle;\n",
       "    }\n",
       "\n",
       "    .dataframe tbody tr th {\n",
       "        vertical-align: top;\n",
       "    }\n",
       "\n",
       "    .dataframe thead th {\n",
       "        text-align: right;\n",
       "    }\n",
       "</style>\n",
       "<table border=\"1\" class=\"dataframe\">\n",
       "  <thead>\n",
       "    <tr style=\"text-align: right;\">\n",
       "      <th></th>\n",
       "      <th>âge</th>\n",
       "      <th>price</th>\n",
       "    </tr>\n",
       "  </thead>\n",
       "  <tbody>\n",
       "    <tr>\n",
       "      <th>0</th>\n",
       "      <td>18.0</td>\n",
       "      <td>277540.290000</td>\n",
       "    </tr>\n",
       "    <tr>\n",
       "      <th>1</th>\n",
       "      <td>19.0</td>\n",
       "      <td>83070.370000</td>\n",
       "    </tr>\n",
       "    <tr>\n",
       "      <th>2</th>\n",
       "      <td>20.0</td>\n",
       "      <td>84127.795621</td>\n",
       "    </tr>\n",
       "    <tr>\n",
       "      <th>3</th>\n",
       "      <td>21.0</td>\n",
       "      <td>80605.930000</td>\n",
       "    </tr>\n",
       "    <tr>\n",
       "      <th>4</th>\n",
       "      <td>22.0</td>\n",
       "      <td>75612.525621</td>\n",
       "    </tr>\n",
       "    <tr>\n",
       "      <th>...</th>\n",
       "      <td>...</td>\n",
       "      <td>...</td>\n",
       "    </tr>\n",
       "    <tr>\n",
       "      <th>71</th>\n",
       "      <td>89.0</td>\n",
       "      <td>2470.835621</td>\n",
       "    </tr>\n",
       "    <tr>\n",
       "      <th>72</th>\n",
       "      <td>90.0</td>\n",
       "      <td>2346.540000</td>\n",
       "    </tr>\n",
       "    <tr>\n",
       "      <th>73</th>\n",
       "      <td>91.0</td>\n",
       "      <td>1308.660000</td>\n",
       "    </tr>\n",
       "    <tr>\n",
       "      <th>74</th>\n",
       "      <td>92.0</td>\n",
       "      <td>1973.720000</td>\n",
       "    </tr>\n",
       "    <tr>\n",
       "      <th>75</th>\n",
       "      <td>93.0</td>\n",
       "      <td>1275.260000</td>\n",
       "    </tr>\n",
       "  </tbody>\n",
       "</table>\n",
       "<p>76 rows × 2 columns</p>\n",
       "</div>"
      ],
      "text/plain": [
       "     âge          price\n",
       "0   18.0  277540.290000\n",
       "1   19.0   83070.370000\n",
       "2   20.0   84127.795621\n",
       "3   21.0   80605.930000\n",
       "4   22.0   75612.525621\n",
       "..   ...            ...\n",
       "71  89.0    2470.835621\n",
       "72  90.0    2346.540000\n",
       "73  91.0    1308.660000\n",
       "74  92.0    1973.720000\n",
       "75  93.0    1275.260000\n",
       "\n",
       "[76 rows x 2 columns]"
      ]
     },
     "execution_count": 73,
     "metadata": {},
     "output_type": "execute_result"
    }
   ],
   "source": [
    "#Nous voulons la somme des montants dépensés par âge.\n",
    "test = data_v2.groupby('âge')['price'].sum().reset_index()\n",
    "test"
   ]
  },
  {
   "cell_type": "code",
   "execution_count": 74,
   "id": "f73787d8",
   "metadata": {},
   "outputs": [
    {
     "data": {
      "image/png": "[encoded data removed]",
      "text/plain": [
       "<Figure size 432x288 with 1 Axes>"
      ]
     },
     "metadata": {
      "needs_background": "light"
     },
     "output_type": "display_data"
    }
   ],
   "source": [
    "sns.scatterplot(x='âge', y='price', data=test)\n",
    "plt.xlabel('âge')\n",
    "plt.ylabel('Montant achat (K€)')\n",
    "plt.title('Montant Total des achats selon l\\'âge du client')\n",
    "\n",
    "plt.savefig(\"scatter_montant_achat_age_client\")\n",
    "plt.show()"
   ]
  },
  {
   "cell_type": "code",
   "execution_count": 75,
   "id": "bc9d792e",
   "metadata": {},
   "outputs": [
    {
     "data": {
      "text/html": [
       "<div>\n",
       "<style scoped>\n",
       "    .dataframe tbody tr th:only-of-type {\n",
       "        vertical-align: middle;\n",
       "    }\n",
       "\n",
       "    .dataframe tbody tr th {\n",
       "        vertical-align: top;\n",
       "    }\n",
       "\n",
       "    .dataframe thead th {\n",
       "        text-align: right;\n",
       "    }\n",
       "</style>\n",
       "<table border=\"1\" class=\"dataframe\">\n",
       "  <thead>\n",
       "    <tr style=\"text-align: right;\">\n",
       "      <th></th>\n",
       "      <th>resultat_test</th>\n",
       "    </tr>\n",
       "  </thead>\n",
       "  <tbody>\n",
       "    <tr>\n",
       "      <th>pearson_coeff</th>\n",
       "      <td>-8.287536e-01</td>\n",
       "    </tr>\n",
       "    <tr>\n",
       "      <th>p-value</th>\n",
       "      <td>2.446796e-20</td>\n",
       "    </tr>\n",
       "  </tbody>\n",
       "</table>\n",
       "</div>"
      ],
      "text/plain": [
       "               resultat_test\n",
       "pearson_coeff  -8.287536e-01\n",
       "p-value         2.446796e-20"
      ]
     },
     "execution_count": 75,
     "metadata": {},
     "output_type": "execute_result"
    }
   ],
   "source": [
    "pd.DataFrame(st.pearsonr(test.âge, test.price), index=['pearson_coeff', 'p-value'], columns=['resultat_test'])"
   ]
  },
  {
   "cell_type": "markdown",
   "id": "293399b4",
   "metadata": {},
   "source": [
    "#### Le coefficient est négatif par conséquent, on peut émettre l'hypothèse que plus les consommateurs sont agés plus le montant total de leur achat est faible. Or le coefficient est plus proche de -1 que de zéro. De plus, avec la p-value égal à 2,4e-18%, il y a bien une corrélation entre ces 2 variables. Par conséquent, il y a une corrélation négative entre l'âge des clients et le montant total des achats."
   ]
  },
  {
   "cell_type": "markdown",
   "id": "c4a773ae",
   "metadata": {},
   "source": [
    "### Correlation entre l'âge des clients et la fréquence d'achat."
   ]
  },
  {
   "cell_type": "code",
   "execution_count": 76,
   "id": "4cba5711",
   "metadata": {},
   "outputs": [
    {
     "data": {
      "text/html": [
       "<div>\n",
       "<style scoped>\n",
       "    .dataframe tbody tr th:only-of-type {\n",
       "        vertical-align: middle;\n",
       "    }\n",
       "\n",
       "    .dataframe tbody tr th {\n",
       "        vertical-align: top;\n",
       "    }\n",
       "\n",
       "    .dataframe thead th {\n",
       "        text-align: right;\n",
       "    }\n",
       "</style>\n",
       "<table border=\"1\" class=\"dataframe\">\n",
       "  <thead>\n",
       "    <tr style=\"text-align: right;\">\n",
       "      <th></th>\n",
       "      <th>âge</th>\n",
       "      <th>session_id</th>\n",
       "    </tr>\n",
       "  </thead>\n",
       "  <tbody>\n",
       "    <tr>\n",
       "      <th>0</th>\n",
       "      <td>18.0</td>\n",
       "      <td>632.0</td>\n",
       "    </tr>\n",
       "    <tr>\n",
       "      <th>1</th>\n",
       "      <td>19.0</td>\n",
       "      <td>186.0</td>\n",
       "    </tr>\n",
       "    <tr>\n",
       "      <th>2</th>\n",
       "      <td>20.0</td>\n",
       "      <td>190.0</td>\n",
       "    </tr>\n",
       "    <tr>\n",
       "      <th>3</th>\n",
       "      <td>21.0</td>\n",
       "      <td>176.0</td>\n",
       "    </tr>\n",
       "    <tr>\n",
       "      <th>4</th>\n",
       "      <td>22.0</td>\n",
       "      <td>187.0</td>\n",
       "    </tr>\n",
       "    <tr>\n",
       "      <th>...</th>\n",
       "      <td>...</td>\n",
       "      <td>...</td>\n",
       "    </tr>\n",
       "    <tr>\n",
       "      <th>71</th>\n",
       "      <td>89.0</td>\n",
       "      <td>14.0</td>\n",
       "    </tr>\n",
       "    <tr>\n",
       "      <th>72</th>\n",
       "      <td>90.0</td>\n",
       "      <td>13.0</td>\n",
       "    </tr>\n",
       "    <tr>\n",
       "      <th>73</th>\n",
       "      <td>91.0</td>\n",
       "      <td>7.0</td>\n",
       "    </tr>\n",
       "    <tr>\n",
       "      <th>74</th>\n",
       "      <td>92.0</td>\n",
       "      <td>10.0</td>\n",
       "    </tr>\n",
       "    <tr>\n",
       "      <th>75</th>\n",
       "      <td>93.0</td>\n",
       "      <td>8.0</td>\n",
       "    </tr>\n",
       "  </tbody>\n",
       "</table>\n",
       "<p>76 rows × 2 columns</p>\n",
       "</div>"
      ],
      "text/plain": [
       "     âge  session_id\n",
       "0   18.0       632.0\n",
       "1   19.0       186.0\n",
       "2   20.0       190.0\n",
       "3   21.0       176.0\n",
       "4   22.0       187.0\n",
       "..   ...         ...\n",
       "71  89.0        14.0\n",
       "72  90.0        13.0\n",
       "73  91.0         7.0\n",
       "74  92.0        10.0\n",
       "75  93.0         8.0\n",
       "\n",
       "[76 rows x 2 columns]"
      ]
     },
     "execution_count": 76,
     "metadata": {},
     "output_type": "execute_result"
    }
   ],
   "source": [
    "#Nous voulons le nombre de transactions par âge, on divise ensuite par le nombre de mois.\n",
    "test1 = data_v2.groupby('âge')['session_id'].count().reset_index()\n",
    "test1['session_id'] = round(test1['session_id']/11)\n",
    "test1"
   ]
  },
  {
   "cell_type": "code",
   "execution_count": 77,
   "id": "5215d7a6",
   "metadata": {},
   "outputs": [
    {
     "data": {
      "image/png": "[encoded data removed]",
      "text/plain": [
       "<Figure size 432x288 with 1 Axes>"
      ]
     },
     "metadata": {
      "needs_background": "light"
     },
     "output_type": "display_data"
    }
   ],
   "source": [
    "sns.scatterplot(x='âge', y='session_id', data=test1)\n",
    "plt.xlabel('age')\n",
    "plt.ylabel('Fréquence achat')\n",
    "plt.title('Fréquence des achats selon l\\'age du client')\n",
    "\n",
    "plt.savefig(\"scatter_frequence_achat_age_client\")\n",
    "plt.show()"
   ]
  },
  {
   "cell_type": "code",
   "execution_count": 78,
   "id": "a65f5dfa",
   "metadata": {},
   "outputs": [
    {
     "data": {
      "text/html": [
       "<div>\n",
       "<style scoped>\n",
       "    .dataframe tbody tr th:only-of-type {\n",
       "        vertical-align: middle;\n",
       "    }\n",
       "\n",
       "    .dataframe tbody tr th {\n",
       "        vertical-align: top;\n",
       "    }\n",
       "\n",
       "    .dataframe thead th {\n",
       "        text-align: right;\n",
       "    }\n",
       "</style>\n",
       "<table border=\"1\" class=\"dataframe\">\n",
       "  <thead>\n",
       "    <tr style=\"text-align: right;\">\n",
       "      <th></th>\n",
       "      <th>resultat_test</th>\n",
       "    </tr>\n",
       "  </thead>\n",
       "  <tbody>\n",
       "    <tr>\n",
       "      <th>pearson_coeff</th>\n",
       "      <td>-5.733861e-01</td>\n",
       "    </tr>\n",
       "    <tr>\n",
       "      <th>p-value</th>\n",
       "      <td>6.174815e-08</td>\n",
       "    </tr>\n",
       "  </tbody>\n",
       "</table>\n",
       "</div>"
      ],
      "text/plain": [
       "               resultat_test\n",
       "pearson_coeff  -5.733861e-01\n",
       "p-value         6.174815e-08"
      ]
     },
     "execution_count": 78,
     "metadata": {},
     "output_type": "execute_result"
    }
   ],
   "source": [
    "pd.DataFrame(st.pearsonr(test1.âge, test1['session_id']), index=['pearson_coeff', 'p-value'], columns=['resultat_test'])"
   ]
  },
  {
   "cell_type": "markdown",
   "id": "3df465cf",
   "metadata": {},
   "source": [
    "####  De même ici, avec la p-value inférieure à 5% et le coefficient de Pearson négatif, nous retrouvons la corrélation négative entre l'âge des clients et leurs fréquences d'achat. Il semblerait que des groupes de clients se formalisent sur cette corrélation, par exemple entre 18 et 30 ans."
   ]
  },
  {
   "cell_type": "markdown",
   "id": "501e02f6",
   "metadata": {},
   "source": [
    "### Corrélation entre l'âge des clients et leur panier moyen ( en nombre d'article)"
   ]
  },
  {
   "cell_type": "code",
   "execution_count": 79,
   "id": "499ccc07",
   "metadata": {},
   "outputs": [],
   "source": [
    "# Nous voulons le nombre de produits par session par âge\n",
    "test2 = data_v2.groupby(['âge','session_id'])['id_prod'].count().reset_index()\n",
    "# Pour ensuite avoir la moyenne de ce nombre\n",
    "test2 = test2.groupby('âge').mean().reset_index()"
   ]
  },
  {
   "cell_type": "code",
   "execution_count": 80,
   "id": "ed33d243",
   "metadata": {},
   "outputs": [
    {
     "data": {
      "text/html": [
       "<div>\n",
       "<style scoped>\n",
       "    .dataframe tbody tr th:only-of-type {\n",
       "        vertical-align: middle;\n",
       "    }\n",
       "\n",
       "    .dataframe tbody tr th {\n",
       "        vertical-align: top;\n",
       "    }\n",
       "\n",
       "    .dataframe thead th {\n",
       "        text-align: right;\n",
       "    }\n",
       "</style>\n",
       "<table border=\"1\" class=\"dataframe\">\n",
       "  <thead>\n",
       "    <tr style=\"text-align: right;\">\n",
       "      <th></th>\n",
       "      <th>âge</th>\n",
       "      <th>id_prod</th>\n",
       "    </tr>\n",
       "  </thead>\n",
       "  <tbody>\n",
       "    <tr>\n",
       "      <th>0</th>\n",
       "      <td>18.0</td>\n",
       "      <td>1.772762</td>\n",
       "    </tr>\n",
       "    <tr>\n",
       "      <th>1</th>\n",
       "      <td>19.0</td>\n",
       "      <td>1.734124</td>\n",
       "    </tr>\n",
       "    <tr>\n",
       "      <th>2</th>\n",
       "      <td>20.0</td>\n",
       "      <td>1.748744</td>\n",
       "    </tr>\n",
       "    <tr>\n",
       "      <th>3</th>\n",
       "      <td>21.0</td>\n",
       "      <td>1.745717</td>\n",
       "    </tr>\n",
       "    <tr>\n",
       "      <th>4</th>\n",
       "      <td>22.0</td>\n",
       "      <td>1.843049</td>\n",
       "    </tr>\n",
       "    <tr>\n",
       "      <th>...</th>\n",
       "      <td>...</td>\n",
       "      <td>...</td>\n",
       "    </tr>\n",
       "    <tr>\n",
       "      <th>71</th>\n",
       "      <td>89.0</td>\n",
       "      <td>1.411215</td>\n",
       "    </tr>\n",
       "    <tr>\n",
       "      <th>72</th>\n",
       "      <td>90.0</td>\n",
       "      <td>1.516129</td>\n",
       "    </tr>\n",
       "    <tr>\n",
       "      <th>73</th>\n",
       "      <td>91.0</td>\n",
       "      <td>1.772727</td>\n",
       "    </tr>\n",
       "    <tr>\n",
       "      <th>74</th>\n",
       "      <td>92.0</td>\n",
       "      <td>1.608696</td>\n",
       "    </tr>\n",
       "    <tr>\n",
       "      <th>75</th>\n",
       "      <td>93.0</td>\n",
       "      <td>1.354839</td>\n",
       "    </tr>\n",
       "  </tbody>\n",
       "</table>\n",
       "<p>76 rows × 2 columns</p>\n",
       "</div>"
      ],
      "text/plain": [
       "     âge   id_prod\n",
       "0   18.0  1.772762\n",
       "1   19.0  1.734124\n",
       "2   20.0  1.748744\n",
       "3   21.0  1.745717\n",
       "4   22.0  1.843049\n",
       "..   ...       ...\n",
       "71  89.0  1.411215\n",
       "72  90.0  1.516129\n",
       "73  91.0  1.772727\n",
       "74  92.0  1.608696\n",
       "75  93.0  1.354839\n",
       "\n",
       "[76 rows x 2 columns]"
      ]
     },
     "execution_count": 80,
     "metadata": {},
     "output_type": "execute_result"
    }
   ],
   "source": [
    "test2"
   ]
  },
  {
   "cell_type": "code",
   "execution_count": 81,
   "id": "0fbbafeb",
   "metadata": {},
   "outputs": [
    {
     "data": {
      "image/png": "[encoded data removed]",
      "text/plain": [
       "<Figure size 432x288 with 1 Axes>"
      ]
     },
     "metadata": {
      "needs_background": "light"
     },
     "output_type": "display_data"
    }
   ],
   "source": [
    "sns.scatterplot(x='âge', y='id_prod', data=test2)\n",
    "plt.xlabel('age')\n",
    "plt.ylabel('Panier moyen (Nbe de produits)')\n",
    "plt.title('Panier moyen en nombre de produits selon l\\'age client')\n",
    "\n",
    "\n",
    "plt.savefig(\"scatter_panier_moyen_age_client\")\n",
    "plt.show()"
   ]
  },
  {
   "cell_type": "code",
   "execution_count": 82,
   "id": "05130834",
   "metadata": {},
   "outputs": [
    {
     "data": {
      "text/html": [
       "<div>\n",
       "<style scoped>\n",
       "    .dataframe tbody tr th:only-of-type {\n",
       "        vertical-align: middle;\n",
       "    }\n",
       "\n",
       "    .dataframe tbody tr th {\n",
       "        vertical-align: top;\n",
       "    }\n",
       "\n",
       "    .dataframe thead th {\n",
       "        text-align: right;\n",
       "    }\n",
       "</style>\n",
       "<table border=\"1\" class=\"dataframe\">\n",
       "  <thead>\n",
       "    <tr style=\"text-align: right;\">\n",
       "      <th></th>\n",
       "      <th>resultat_test</th>\n",
       "    </tr>\n",
       "  </thead>\n",
       "  <tbody>\n",
       "    <tr>\n",
       "      <th>pearson_coeff</th>\n",
       "      <td>-5.906288e-01</td>\n",
       "    </tr>\n",
       "    <tr>\n",
       "      <th>p-value</th>\n",
       "      <td>1.953600e-08</td>\n",
       "    </tr>\n",
       "  </tbody>\n",
       "</table>\n",
       "</div>"
      ],
      "text/plain": [
       "               resultat_test\n",
       "pearson_coeff  -5.906288e-01\n",
       "p-value         1.953600e-08"
      ]
     },
     "execution_count": 82,
     "metadata": {},
     "output_type": "execute_result"
    }
   ],
   "source": [
    "pd.DataFrame(st.pearsonr(test2.âge, test2['id_prod']), index=['pearson_coeff', 'p-value'], columns=['resultat_test'])"
   ]
  },
  {
   "cell_type": "markdown",
   "id": "c8028bd2",
   "metadata": {},
   "source": [
    "#### Le test de corrélation démontre une certaine corrélation (coefficient de Pearson égal à 0,59) entre l'âge du client et le panier moyen. Par exemple, sur les individus de plus de 50 ans, le panier moyen reste faible. Il existe également un lien sur les individus de 18 à 30 ans et de 30 à 50 ans. Des corrélations plûtot fortes (coefficient de Pearson égal à -0,59) existent selon les tranches d'âges."
   ]
  },
  {
   "cell_type": "markdown",
   "id": "91a8ee86",
   "metadata": {},
   "source": [
    "### Corrélation entre l'âge des clients et la catégories des produits"
   ]
  },
  {
   "cell_type": "code",
   "execution_count": 83,
   "id": "b99ef879",
   "metadata": {},
   "outputs": [
    {
     "data": {
      "text/html": [
       "<div>\n",
       "<style scoped>\n",
       "    .dataframe tbody tr th:only-of-type {\n",
       "        vertical-align: middle;\n",
       "    }\n",
       "\n",
       "    .dataframe tbody tr th {\n",
       "        vertical-align: top;\n",
       "    }\n",
       "\n",
       "    .dataframe thead th {\n",
       "        text-align: right;\n",
       "    }\n",
       "</style>\n",
       "<table border=\"1\" class=\"dataframe\">\n",
       "  <thead>\n",
       "    <tr style=\"text-align: right;\">\n",
       "      <th></th>\n",
       "      <th>âge</th>\n",
       "      <th>categ</th>\n",
       "      <th>session_id</th>\n",
       "      <th>groupe_age</th>\n",
       "    </tr>\n",
       "  </thead>\n",
       "  <tbody>\n",
       "    <tr>\n",
       "      <th>0</th>\n",
       "      <td>18.0</td>\n",
       "      <td>0.0</td>\n",
       "      <td>1527</td>\n",
       "      <td>(17.999, 30.0]</td>\n",
       "    </tr>\n",
       "    <tr>\n",
       "      <th>1</th>\n",
       "      <td>18.0</td>\n",
       "      <td>1.0</td>\n",
       "      <td>2701</td>\n",
       "      <td>(17.999, 30.0]</td>\n",
       "    </tr>\n",
       "    <tr>\n",
       "      <th>2</th>\n",
       "      <td>18.0</td>\n",
       "      <td>2.0</td>\n",
       "      <td>2723</td>\n",
       "      <td>(17.999, 30.0]</td>\n",
       "    </tr>\n",
       "    <tr>\n",
       "      <th>3</th>\n",
       "      <td>19.0</td>\n",
       "      <td>0.0</td>\n",
       "      <td>429</td>\n",
       "      <td>(17.999, 30.0]</td>\n",
       "    </tr>\n",
       "    <tr>\n",
       "      <th>4</th>\n",
       "      <td>19.0</td>\n",
       "      <td>1.0</td>\n",
       "      <td>800</td>\n",
       "      <td>(17.999, 30.0]</td>\n",
       "    </tr>\n",
       "    <tr>\n",
       "      <th>...</th>\n",
       "      <td>...</td>\n",
       "      <td>...</td>\n",
       "      <td>...</td>\n",
       "      <td>...</td>\n",
       "    </tr>\n",
       "    <tr>\n",
       "      <th>222</th>\n",
       "      <td>92.0</td>\n",
       "      <td>0.0</td>\n",
       "      <td>40</td>\n",
       "      <td>(69.0, 93.0]</td>\n",
       "    </tr>\n",
       "    <tr>\n",
       "      <th>223</th>\n",
       "      <td>92.0</td>\n",
       "      <td>1.0</td>\n",
       "      <td>70</td>\n",
       "      <td>(69.0, 93.0]</td>\n",
       "    </tr>\n",
       "    <tr>\n",
       "      <th>224</th>\n",
       "      <td>92.0</td>\n",
       "      <td>2.0</td>\n",
       "      <td>1</td>\n",
       "      <td>(69.0, 93.0]</td>\n",
       "    </tr>\n",
       "    <tr>\n",
       "      <th>225</th>\n",
       "      <td>93.0</td>\n",
       "      <td>0.0</td>\n",
       "      <td>33</td>\n",
       "      <td>(69.0, 93.0]</td>\n",
       "    </tr>\n",
       "    <tr>\n",
       "      <th>226</th>\n",
       "      <td>93.0</td>\n",
       "      <td>1.0</td>\n",
       "      <td>51</td>\n",
       "      <td>(69.0, 93.0]</td>\n",
       "    </tr>\n",
       "  </tbody>\n",
       "</table>\n",
       "<p>227 rows × 4 columns</p>\n",
       "</div>"
      ],
      "text/plain": [
       "      âge categ  session_id      groupe_age\n",
       "0    18.0   0.0        1527  (17.999, 30.0]\n",
       "1    18.0   1.0        2701  (17.999, 30.0]\n",
       "2    18.0   2.0        2723  (17.999, 30.0]\n",
       "3    19.0   0.0         429  (17.999, 30.0]\n",
       "4    19.0   1.0         800  (17.999, 30.0]\n",
       "..    ...   ...         ...             ...\n",
       "222  92.0   0.0          40    (69.0, 93.0]\n",
       "223  92.0   1.0          70    (69.0, 93.0]\n",
       "224  92.0   2.0           1    (69.0, 93.0]\n",
       "225  93.0   0.0          33    (69.0, 93.0]\n",
       "226  93.0   1.0          51    (69.0, 93.0]\n",
       "\n",
       "[227 rows x 4 columns]"
      ]
     },
     "execution_count": 83,
     "metadata": {},
     "output_type": "execute_result"
    }
   ],
   "source": [
    "test3 = data_v2.groupby(['âge', 'categ'])['session_id'].count().reset_index()\n",
    "test3['groupe_age'] = pd.qcut(test3.âge, q=[0, 0.16, 0.43, 0.68,  1])\n",
    "test3"
   ]
  },
  {
   "cell_type": "code",
   "execution_count": 84,
   "id": "a2ac718e",
   "metadata": {},
   "outputs": [
    {
     "data": {
      "text/plain": [
       "[(17.999, 30.0], (30.0, 50.0], (50.0, 69.0], (69.0, 93.0]]\n",
       "Categories (4, interval[float64]): [(17.999, 30.0] < (30.0, 50.0] < (50.0, 69.0] < (69.0, 93.0]]"
      ]
     },
     "execution_count": 84,
     "metadata": {},
     "output_type": "execute_result"
    }
   ],
   "source": [
    "test3['groupe_age'].unique()"
   ]
  },
  {
   "cell_type": "code",
   "execution_count": 85,
   "id": "6c4a3116",
   "metadata": {},
   "outputs": [
    {
     "data": {
      "image/png": "[encoded data removed]",
      "text/plain": [
       "<Figure size 432x288 with 1 Axes>"
      ]
     },
     "metadata": {
      "needs_background": "light"
     },
     "output_type": "display_data"
    }
   ],
   "source": [
    "sns.boxplot(x='groupe_age', y='session_id', data=test3, hue='categ')\n",
    "plt.xlabel(\"Tranches d'âge\")\n",
    "plt.ylabel(\"Nombre de ventes par catégorie\")\n",
    "plt.title(\"Catégories des produits selon l'âge des clients\")\n",
    "plt.savefig(\"boxplot_age_categ\")\n",
    "plt.show()"
   ]
  },
  {
   "cell_type": "code",
   "execution_count": 86,
   "id": "d64cea67",
   "metadata": {},
   "outputs": [
    {
     "data": {
      "text/html": [
       "<table class=\"simpletable\">\n",
       "<caption>OLS Regression Results</caption>\n",
       "<tr>\n",
       "  <th>Dep. Variable:</th>       <td>session_id</td>    <th>  R-squared:         </th> <td>   0.324</td>\n",
       "</tr>\n",
       "<tr>\n",
       "  <th>Model:</th>                   <td>OLS</td>       <th>  Adj. R-squared:    </th> <td>   0.315</td>\n",
       "</tr>\n",
       "<tr>\n",
       "  <th>Method:</th>             <td>Least Squares</td>  <th>  F-statistic:       </th> <td>   35.66</td>\n",
       "</tr>\n",
       "<tr>\n",
       "  <th>Date:</th>             <td>Fri, 14 Jan 2022</td> <th>  Prob (F-statistic):</th> <td>7.25e-19</td>\n",
       "</tr>\n",
       "<tr>\n",
       "  <th>Time:</th>                 <td>03:04:13</td>     <th>  Log-Likelihood:    </th> <td> -1993.2</td>\n",
       "</tr>\n",
       "<tr>\n",
       "  <th>No. Observations:</th>      <td>   227</td>      <th>  AIC:               </th> <td>   3994.</td>\n",
       "</tr>\n",
       "<tr>\n",
       "  <th>Df Residuals:</th>          <td>   223</td>      <th>  BIC:               </th> <td>   4008.</td>\n",
       "</tr>\n",
       "<tr>\n",
       "  <th>Df Model:</th>              <td>     3</td>      <th>                     </th>     <td> </td>   \n",
       "</tr>\n",
       "<tr>\n",
       "  <th>Covariance Type:</th>      <td>nonrobust</td>    <th>                     </th>     <td> </td>   \n",
       "</tr>\n",
       "</table>\n",
       "<table class=\"simpletable\">\n",
       "<tr>\n",
       "                           <td></td>                             <th>coef</th>     <th>std err</th>      <th>t</th>      <th>P>|t|</th>  <th>[0.025</th>    <th>0.975]</th>  \n",
       "</tr>\n",
       "<tr>\n",
       "  <th>Intercept</th>                                          <td>  880.0513</td> <td>  254.321</td> <td>    3.460</td> <td> 0.001</td> <td>  378.871</td> <td> 1381.232</td>\n",
       "</tr>\n",
       "<tr>\n",
       "  <th>groupe_age[T.Interval(30.0, 50.0, closed='right')]</th> <td> 2142.2821</td> <td>  326.682</td> <td>    6.558</td> <td> 0.000</td> <td> 1498.504</td> <td> 2786.060</td>\n",
       "</tr>\n",
       "<tr>\n",
       "  <th>groupe_age[T.Interval(50.0, 69.0, closed='right')]</th> <td>  184.2294</td> <td>  330.051</td> <td>    0.558</td> <td> 0.577</td> <td> -466.188</td> <td>  834.647</td>\n",
       "</tr>\n",
       "<tr>\n",
       "  <th>groupe_age[T.Interval(69.0, 93.0, closed='right')]</th> <td> -653.9668</td> <td>  316.555</td> <td>   -2.066</td> <td> 0.040</td> <td>-1277.790</td> <td>  -30.144</td>\n",
       "</tr>\n",
       "</table>\n",
       "<table class=\"simpletable\">\n",
       "<tr>\n",
       "  <th>Omnibus:</th>       <td>46.620</td> <th>  Durbin-Watson:     </th> <td>   2.838</td>\n",
       "</tr>\n",
       "<tr>\n",
       "  <th>Prob(Omnibus):</th> <td> 0.000</td> <th>  Jarque-Bera (JB):  </th> <td> 108.502</td>\n",
       "</tr>\n",
       "<tr>\n",
       "  <th>Skew:</th>          <td> 0.946</td> <th>  Prob(JB):          </th> <td>2.75e-24</td>\n",
       "</tr>\n",
       "<tr>\n",
       "  <th>Kurtosis:</th>      <td> 5.810</td> <th>  Cond. No.          </th> <td>    5.69</td>\n",
       "</tr>\n",
       "</table><br/><br/>Notes:<br/>[1] Standard Errors assume that the covariance matrix of the errors is correctly specified."
      ],
      "text/plain": [
       "<class 'statsmodels.iolib.summary.Summary'>\n",
       "\"\"\"\n",
       "                            OLS Regression Results                            \n",
       "==============================================================================\n",
       "Dep. Variable:             session_id   R-squared:                       0.324\n",
       "Model:                            OLS   Adj. R-squared:                  0.315\n",
       "Method:                 Least Squares   F-statistic:                     35.66\n",
       "Date:                Fri, 14 Jan 2022   Prob (F-statistic):           7.25e-19\n",
       "Time:                        03:04:13   Log-Likelihood:                -1993.2\n",
       "No. Observations:                 227   AIC:                             3994.\n",
       "Df Residuals:                     223   BIC:                             4008.\n",
       "Df Model:                           3                                         \n",
       "Covariance Type:            nonrobust                                         \n",
       "======================================================================================================================\n",
       "                                                         coef    std err          t      P>|t|      [0.025      0.975]\n",
       "----------------------------------------------------------------------------------------------------------------------\n",
       "Intercept                                            880.0513    254.321      3.460      0.001     378.871    1381.232\n",
       "groupe_age[T.Interval(30.0, 50.0, closed='right')]  2142.2821    326.682      6.558      0.000    1498.504    2786.060\n",
       "groupe_age[T.Interval(50.0, 69.0, closed='right')]   184.2294    330.051      0.558      0.577    -466.188     834.647\n",
       "groupe_age[T.Interval(69.0, 93.0, closed='right')]  -653.9668    316.555     -2.066      0.040   -1277.790     -30.144\n",
       "==============================================================================\n",
       "Omnibus:                       46.620   Durbin-Watson:                   2.838\n",
       "Prob(Omnibus):                  0.000   Jarque-Bera (JB):              108.502\n",
       "Skew:                           0.946   Prob(JB):                     2.75e-24\n",
       "Kurtosis:                       5.810   Cond. No.                         5.69\n",
       "==============================================================================\n",
       "\n",
       "Notes:\n",
       "[1] Standard Errors assume that the covariance matrix of the errors is correctly specified.\n",
       "\"\"\""
      ]
     },
     "execution_count": 86,
     "metadata": {},
     "output_type": "execute_result"
    }
   ],
   "source": [
    "anova = smf.ols('session_id~groupe_age', data=test3).fit()\n",
    "anova.summary()"
   ]
  },
  {
   "cell_type": "markdown",
   "id": "e4874aff",
   "metadata": {},
   "source": [
    "#### Le rapport de corrélation est de 0,324, qui est proche de 0,4 dans le cadre du test par ANOVA, la corrélation est donc significative entre les catégories et l'âge client. Il est perceptible de voir le lien que peut avoir une catégorie en fonction d'une tranche d'âges, avec par exemple un fort succès de la catégorie 0 pour les 30-50 ans, ou à l'inverse une clientèle plus âgée qui n'adhère pas vraiment à cette catégorie, etc.."
   ]
  },
  {
   "cell_type": "code",
   "execution_count": null,
   "id": "3fb48123",
   "metadata": {},
   "outputs": [],
   "source": []
  }
 ],
 "metadata": {
  "kernelspec": {
   "display_name": "Python 3",
   "language": "python",
   "name": "python3"
  },
  "language_info": {
   "codemirror_mode": {
    "name": "ipython",
    "version": 3
   },
   "file_extension": ".py",
   "mimetype": "text/x-python",
   "name": "python",
   "nbconvert_exporter": "python",
   "pygments_lexer": "ipython3",
   "version": "3.8.8"
  }
 },
 "nbformat": 4,
 "nbformat_minor": 5
}
